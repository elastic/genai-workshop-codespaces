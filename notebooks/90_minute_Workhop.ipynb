{
  "cells": [
    {
      "cell_type": "markdown",
      "metadata": {
        "id": "tkX3rrbhcUr2"
      },
      "source": [
        "# 90 Minute GenAI Workshop"
      ]
    },
    {
      "cell_type": "markdown",
      "metadata": {
        "id": "EEeUZ1r79kr0"
      },
      "source": [
        "## Step 0: Get private keys - these will expire in ~7 days\n",
        "The following code loads the environment variables required to run this notebook.\n",
        "\n"
      ]
    },
    {
      "cell_type": "code",
      "execution_count": 1,
      "metadata": {
        "id": "FivGgCcXNOF5"
      },
      "outputs": [
        {
          "name": "stdout",
          "output_type": "stream",
          "text": [
            "github codespaces has pre-installed these libraries\n"
          ]
        },
        {
          "data": {
            "application/vnd.jupyter.widget-view+json": {
              "model_id": "6fbc68740d8b472795bb7c86dc89e7d9",
              "version_major": 2,
              "version_minor": 0
            },
            "text/plain": [
              "VBox(children=(Label(value='Please enter the Workshop Key provided by the instructor:'), HBox(children=(Text(v…"
            ]
          },
          "metadata": {},
          "output_type": "display_data"
        },
        {
          "name": "stdout",
          "output_type": "stream",
          "text": [
            "Successfully loaded environment variables for the GenAI Wave 2 - 90 min 0422 workshop from remote env file\n"
          ]
        }
      ],
      "source": [
        "FILE=\"GenAI in 90 Minutes\"\n",
        "\n",
        "## suppress some warnings\n",
        "import warnings, os\n",
        "os.environ['PIP_ROOT_USER_ACTION'] = 'ignore'\n",
        "warnings.filterwarnings(\"ignore\", category=UserWarning, module='huggingface_hub.utils._token')\n",
        "\n",
        "# import needed library versions\n",
        "# ! pip install -qqq --upgrade pip\n",
        "# ! pip install -qqq torch==2.1.0+cu121 -f https://download.pytorch.org/whl/torch_stable.html\n",
        "# ! pip install -qqq --upgrade transformers==4.36.2\n",
        "# ! pip install -qqq tiktoken==0.5.2 cohere==4.38 openai==1.3.9\n",
        "# ! pip install -qqq langchain==0.1.3 sentence-transformers==2.2.2 beautifulsoup4==4.11.2\n",
        "# ! pip install -qqq matplotlib==3.7.1 scikit-learn==1.2.2 scipy==1.11.4\n",
        "# ! pip install -qqq streamlit==1.30.0 elasticsearch==8.12.0 elastic-apm==6.20.0 inquirer==3.2.1 python-dotenv==1.0.1\n",
        "# ! pip install -qqq elasticsearch-llm-cache==0.9.5\n",
        "! echo \"github codespaces has pre-installed these libraries\"\n",
        "\n",
        "# Utility code\n",
        "import json, textwrap\n",
        "def json_pretty(input_object):\n",
        "  print(json.dumps(input_object, indent=4))\n",
        "def wrap_text(text, width=100):\n",
        "    return '\\n'.join(textwrap.wrap(text, width))\n",
        "def print_light_blue(text):\n",
        "    print(f'\\033[94m{text}\\033[0m')\n",
        "\n",
        "# workshop environment - this is where you'll enter a key\n",
        "# ! pip install -qqq git+https://github.com/elastic/notebook-workshop-loader.git@main\n",
        "from notebookworkshoploader import loader\n",
        "from dotenv import load_dotenv\n",
        "if os.path.isfile(\"../env\"):\n",
        "    load_dotenv(\"../env\", override=True)\n",
        "    print('Successfully loaded environment variables from local env file')\n",
        "else:\n",
        "    loader.load_remote_env(file=FILE, env_url=\"https://notebook-workshop-api-voldmqr2bq-uc.a.run.app\")"
      ]
    },
    {
      "cell_type": "markdown",
      "metadata": {
        "id": "Jc0hCkZClCTy"
      },
      "source": [
        "# 🛑 Stop Here 🛑"
      ]
    },
    {
      "cell_type": "markdown",
      "metadata": {
        "id": "XYdwzTtYvtQB"
      },
      "source": [
        "# Lab 1 : Playing with LLMs\n",
        "In this section we'll look at\n",
        "* LLM Limitations\n",
        "* Simple Prompt Engineering\n",
        "* Basic Chatbots"
      ]
    },
    {
      "cell_type": "markdown",
      "metadata": {
        "id": "n5f1vIeeNOF6"
      },
      "source": [
        "## Step 1: Generative LLM - Simple and Local - Download Flan T5\n",
        "\n",
        "Let's start with the Hello World of generative AI examples: completing a sentence. For this we'll install a fine tuned Flan-T5 variant model. ([LaMini-T5 ](https://huggingface.co/MBZUAI/LaMini-T5-738M))\n",
        "\n",
        "Note, while this is a smaller checkpoint of the model, it is still a 3GB download.  We'll cache the files in the same folder.\n",
        "\n"
      ]
    },
    {
      "cell_type": "code",
      "execution_count": 2,
      "metadata": {
        "id": "l6kqG5siNOF6"
      },
      "outputs": [
        {
          "name": "stderr",
          "output_type": "stream",
          "text": [
            "/home/codespace/.python/current/lib/python3.10/site-packages/transformers/utils/generic.py:441: UserWarning: torch.utils._pytree._register_pytree_node is deprecated. Please use torch.utils._pytree.register_pytree_node instead.\n",
            "  _torch_pytree._register_pytree_node(\n",
            "/home/codespace/.python/current/lib/python3.10/site-packages/transformers/utils/generic.py:309: UserWarning: torch.utils._pytree._register_pytree_node is deprecated. Please use torch.utils._pytree.register_pytree_node instead.\n",
            "  _torch_pytree._register_pytree_node(\n"
          ]
        }
      ],
      "source": [
        "## LLMs can be run 100% locally\n",
        "## This is a 3 GB download and takes some RAM to run, but it works CPU only\n",
        "\n",
        "from transformers import pipeline\n",
        "from transformers import AutoTokenizer, AutoModelForSeq2SeqLM\n",
        "\n",
        "cache_directory = \"llm_download_cache\"\n",
        "model_name = \"MBZUAI/LaMini-T5-738M\"\n",
        "\n",
        "llm_tokenizer = AutoTokenizer.from_pretrained(model_name,\n",
        "                                              cache_dir=cache_directory)\n",
        "llm_model = AutoModelForSeq2SeqLM.from_pretrained(model_name,\n",
        "                                                  cache_dir=cache_directory)\n",
        "\n",
        "llm_pipe = pipeline(\n",
        "        \"text2text-generation\",\n",
        "        model=llm_model,\n",
        "        tokenizer=llm_tokenizer,\n",
        "        max_length=100\n",
        "    )"
      ]
    },
    {
      "cell_type": "markdown",
      "metadata": {
        "id": "RSCILNELNOF6"
      },
      "source": [
        "## Step 2: Generate text completions, watch for Hallucinations"
      ]
    },
    {
      "cell_type": "code",
      "execution_count": 3,
      "metadata": {
        "id": "Gxpdh9UtNOF7"
      },
      "outputs": [
        {
          "name": "stdout",
          "output_type": "stream",
          "text": [
            "\u001b[94mThe capital of the United Kingdom is\u001b[0m London.\n",
            "\u001b[94mThe capital of the France is\u001b[0m Paris.\n",
            "\u001b[94mThe capital of the People's Republic of China is\u001b[0m Beijing.\n",
            "\u001b[94mThe capital of the United States is\u001b[0m Washington D.C.\n",
            "\u001b[94mThe capital of the Ecuador is\u001b[0m Quito.\n",
            "\u001b[94mThe capital of the Freedonia is\u001b[0m The capital of Freedonia is Ljubljana.\n",
            "\u001b[94mThe capital of the Faketopia is\u001b[0m The capital of Faketopia is not specified in the instructions.\n"
          ]
        }
      ],
      "source": [
        "countries = [\n",
        "    \"United Kingdom\",\n",
        "    \"France\",\n",
        "    \"People's Republic of China\",\n",
        "    \"United States\",\n",
        "    \"Ecuador\",\n",
        "    \"Freedonia\", ## high hallucination potential\n",
        "    \"Faketopia\"  ## high hallucination potential\n",
        "    ]\n",
        "\n",
        "for country in countries:\n",
        "    input_text = f\"The capital of the {country} is\"\n",
        "    output = llm_pipe(input_text)\n",
        "    completed_sentence = f\"\\033[94m{input_text}\\033[0m {output[0]['generated_text']}\"\n",
        "    print(completed_sentence)"
      ]
    },
    {
      "cell_type": "markdown",
      "metadata": {
        "id": "rpsbegewNOF7"
      },
      "source": [
        "## Step 3: Push the limits of this small model\n",
        "\n",
        "Try some of your own examples.\n",
        "This model isn't huge, but it can handle some light context injection and prompt engineering. We'll learn more about those subjects in later modules.\n",
        "\n",
        "Notice the difference between asking a specific question and phrasing a completion\n",
        "* \"Who is the Prime Minister of the UK?\"\n",
        "* \"The current Prime Minister of the united kingdom is \""
      ]
    },
    {
      "cell_type": "code",
      "execution_count": 5,
      "metadata": {
        "id": "N6GhGplrNOF7"
      },
      "outputs": [
        {
          "name": "stdout",
          "output_type": "stream",
          "text": [
            "\u001b[94mThe current Prime Minister of the United Kingdom is\u001b[0m Boris Johnson.\n"
          ]
        }
      ],
      "source": [
        "## Example: Stale Model Knowledge\n",
        "\n",
        "def prompt_me(prompt_text):\n",
        "  output = llm_pipe(prompt_text)\n",
        "  completed_prompt = f\"\\033[94m{prompt_text}\\033[0m {output[0]['generated_text']}\"\n",
        "  print(wrap_text(completed_prompt))\n",
        "\n",
        "prompt_me(\"The current Prime Minister of the United Kingdom is\") ## high stale data potential\n"
      ]
    },
    {
      "cell_type": "code",
      "execution_count": 6,
      "metadata": {
        "id": "XCJr6shRVmKi"
      },
      "outputs": [
        {
          "name": "stdout",
          "output_type": "stream",
          "text": [
            "\u001b[94mComplete the following Turkey\u001b[0m I'm sorry, but you have not provided any specific\n",
            "instructions for me to complete the task. Please provide more details or a specific task for me to\n",
            "assist you with.\n",
            "\u001b[94m Complete the following USA::Washington DC Australia::Canberra Turkey::\u001b[0m Istanbul.\n"
          ]
        }
      ],
      "source": [
        "## Example: Give Examples - Few Shot Prompts\n",
        "\n",
        "prompt_me(\"\"\"Complete the following\n",
        "Turkey\"\"\") ## A zero shot prompt\n",
        "\n",
        "prompt_me(\"\"\"\n",
        "Complete the following\n",
        "USA::Washington DC\n",
        "Australia::Canberra\n",
        "Turkey::\"\"\") ## The correct answer in Ankara. A smarter model would get this right."
      ]
    },
    {
      "cell_type": "code",
      "execution_count": 7,
      "metadata": {
        "id": "5tAsV7C_Va0O"
      },
      "outputs": [
        {
          "name": "stdout",
          "output_type": "stream",
          "text": [
            "\u001b[94m Answer the question using the following context. Context: The sea is blue, grass is green and\n",
            "the sky is purple for some reason today. Question: What does the sky look like today? Answer:\u001b[0m\n",
            "The sky looks purple today.\n",
            "\u001b[94m Answer the question using the following context. Context: The first person to land and walk on\n",
            "the moon was Roger Waters of the band Pink Floyd. Question: Who was the first man on the moon?\n",
            "Answer:\u001b[0m Roger Waters.\n"
          ]
        }
      ],
      "source": [
        "## Example: In Context Learning\n",
        "\n",
        "prompt_me(\"\"\"\n",
        "Answer the question using the following context.\n",
        "Context: The sea is blue, grass is green and the sky is purple for some reason today.\n",
        "Question: What does the sky look like today?\n",
        "Answer:\"\"\")\n",
        "\n",
        "\n",
        "prompt_me(\"\"\"\n",
        "Answer the question using the following context.\n",
        "Context: The first person to land and walk on the moon was Roger Waters of the band Pink Floyd.\n",
        "Question: Who was the first man on the moon?\n",
        "Answer:\"\"\")"
      ]
    },
    {
      "cell_type": "markdown",
      "metadata": {
        "id": "zwr_5uzVX0--"
      },
      "source": [
        "## 🫵 Try it yourself - Get Creative"
      ]
    },
    {
      "cell_type": "code",
      "execution_count": 10,
      "metadata": {
        "id": "C0unW42QXz9H"
      },
      "outputs": [
        {
          "name": "stdout",
          "output_type": "stream",
          "text": [
            "\u001b[94m when were you born?\u001b[0m I'm sorry, but as an AI language model, I don't have a birthdate.\n"
          ]
        }
      ],
      "source": [
        "prompt_me(\"\"\"\n",
        "when were you born?\"\"\")"
      ]
    },
    {
      "cell_type": "markdown",
      "metadata": {
        "id": "cRBAXFBiNOF7"
      },
      "source": [
        "## Step 4: Let's build a basic chatbot with ChatGPT 3.5"
      ]
    },
    {
      "cell_type": "code",
      "execution_count": 11,
      "metadata": {
        "id": "Mu56DHbbNOF7"
      },
      "outputs": [
        {
          "name": "stdout",
          "output_type": "stream",
          "text": [
            "Using the Elastic AI proxy\n",
            "Your unique user hash is: 86a094c48417\n"
          ]
        }
      ],
      "source": [
        "import os, secrets, requests\n",
        "import openai\n",
        "from openai import OpenAI\n",
        "from requests.auth import HTTPBasicAuth\n",
        "\n",
        "#if using the Elastic AI proxy, then generate the correct API key\n",
        "if os.environ['ELASTIC_PROXY'] == \"True\":\n",
        "    print(\"Using the Elastic AI proxy\")\n",
        "    if \"OPENAI_API_TYPE\" in os.environ: del os.environ[\"OPENAI_API_TYPE\"]\n",
        "    os.environ['USER_HASH'] = secrets.token_hex(nbytes=6)\n",
        "    print(f\"Your unique user hash is: {os.environ['USER_HASH']}\")\n",
        "    os.environ['OPENAI_API_KEY'] = f\"{os.environ['OPENAI_API_KEY']} {os.environ['USER_HASH']}\"\n",
        "#if you are using your own OpenAI or Azure OpenAI service, set it up here\n",
        "else:\n",
        "    print(\"Using direct keys\")\n",
        "    openai.api_type = os.environ['OPENAI_API_TYPE']\n",
        "    openai.api_version = os.environ['OPENAI_API_VERSION']\n",
        "\n",
        "openai.api_key = os.environ['OPENAI_API_KEY']\n",
        "openai.api_base = os.environ['OPENAI_API_BASE']\n",
        "openai.default_model = os.environ['OPENAI_API_ENGINE']\n",
        "\n",
        "import ipywidgets as widgets\n",
        "from IPython.display import display\n",
        "\n",
        "class NotebookChatExperience:\n",
        "    def __init__(self, ai_response_function, ai_name = \"AI\"):\n",
        "        self.ai_name = ai_name\n",
        "        self.ai_response_function = ai_response_function\n",
        "        self.chat_history = widgets.Textarea(\n",
        "            value='',\n",
        "            placeholder='Chat history will appear here...',\n",
        "            description='Chat:',\n",
        "            disabled=True,\n",
        "            layout=widgets.Layout(width='700px', height='300px')  # Adjust the size as needed\n",
        "        )\n",
        "        self.user_input = widgets.Text(\n",
        "            value='',\n",
        "            placeholder='Type your message here...',\n",
        "            description='You:',\n",
        "            disabled=False,\n",
        "            layout=widgets.Layout(width='700px')  # Adjust the size as needed\n",
        "        )\n",
        "        self.user_input.on_submit(self.on_submit)\n",
        "        display(self.chat_history, self.user_input)\n",
        "\n",
        "    def on_submit(self, event):\n",
        "        user_message = self.user_input.value\n",
        "        ai_name = self.ai_name\n",
        "        self.chat_history.value += f\"\\nYou: {user_message}\"\n",
        "        ai_message = self.ai_response_function(user_message)\n",
        "        self.chat_history.value += f\"\\n{ai_name}: {ai_message}\"\n",
        "        self.user_input.value = ''  # Clear input for next message\n",
        "\n",
        "    def clear_chat(self):\n",
        "        self.chat_history.value = ''  # Clear the chat history\n",
        "\n",
        "## ********** Example usage:\n",
        "\n",
        "## ********** Define a simple AI response function\n",
        "# def simple_ai_response(user_message):\n",
        "    # return f\"AI > Echo: {user_message}\"\n",
        "\n",
        "## ********** Create an instance of the chat interface\n",
        "#chat_instance = NotebookChatExperience(simple_ai_response)"
      ]
    },
    {
      "cell_type": "markdown",
      "metadata": {
        "id": "qpO5xbubDz_T"
      },
      "source": [
        "## Step 5: Test call to ChatGPT 3.5"
      ]
    },
    {
      "cell_type": "code",
      "execution_count": 12,
      "metadata": {
        "id": "ETYE5zfSD2J7"
      },
      "outputs": [
        {
          "name": "stdout",
          "output_type": "stream",
          "text": [
            "{\"id\":\"org-KmoPALvZsreYRaEHOkhzkLcJ\",\"choices\":[{\"finish_reason\":\"stop\n",
            "\",\"index\":0,\"message\":{\"content\":\"Yes, as an AI language model, I am\n",
            "always online and working 24/7/365 to assist you. How can I help you t\n",
            "oday?\",\"role\":\"assistant\",\"function_call\":null,\"tool_calls\":null},\"con\n",
            "tent_filter_results\":{\"hate\":{\"filtered\":false,\"severity\":\"safe\"},\"sel\n",
            "f_harm\":{\"filtered\":false,\"severity\":\"safe\"},\"sexual\":{\"filtered\":fals\n",
            "e,\"severity\":\"safe\"},\"violence\":{\"filtered\":false,\"severity\":\"safe\"}}}\n",
            "],\"created\":1713792573,\"model\":\"gpt-35-\n",
            "turbo\",\"object\":\"chat.completion\",\"system_fingerprint\":null,\"usage\":{\"\n",
            "completion_tokens\":31,\"prompt_tokens\":18,\"total_tokens\":49},\"prompt_fi\n",
            "lter_results\":[{\"prompt_index\":0,\"content_filter_results\":{\"hate\":{\"fi\n",
            "ltered\":false,\"severity\":\"safe\"},\"self_harm\":{\"filtered\":false,\"severi\n",
            "ty\":\"safe\"},\"sexual\":{\"filtered\":false,\"severity\":\"safe\"},\"violence\":{\n",
            "\"filtered\":false,\"severity\":\"safe\"}}}]}\n",
            "\n",
            " Yes, as an AI language model, I am always online and working 24/7/365\n",
            "to assist you. How can I help you today?\n"
          ]
        }
      ],
      "source": [
        "# Call the OpenAI ChatCompletion API\n",
        "def chatCompletion(messages, max_tokens=100):\n",
        "    client = OpenAI(api_key=openai.api_key, base_url=openai.api_base)\n",
        "    completion = client.chat.completions.create(\n",
        "        model=openai.default_model,\n",
        "        max_tokens=max_tokens,\n",
        "        messages=messages\n",
        "    )\n",
        "    return completion\n",
        "\n",
        "prompt=\"Hello, is ChatGPT online and working?\"\n",
        "\n",
        "messages = [{\"role\": \"user\", \"content\": prompt}]\n",
        "\n",
        "completion = chatCompletion(messages)\n",
        "\n",
        "response_text = completion.choices[0].message.content\n",
        "\n",
        "print(wrap_text(completion.json(),70))\n",
        "\n",
        "print(\"\\n\", wrap_text(response_text,70))\n"
      ]
    },
    {
      "cell_type": "markdown",
      "metadata": {
        "id": "Q27YsV35auc3"
      },
      "source": [
        "## Step 6: Few Shot prompt on GPT 3.5\n",
        "\n",
        "ChatGPT 3.5 is much more powerful than the smaller T5 model we were just using.\n",
        "\n",
        "It's capable of more advanded reasoning and prompt engineering.\n"
      ]
    },
    {
      "cell_type": "code",
      "execution_count": 13,
      "metadata": {
        "id": "of6OAbgWaZlN"
      },
      "outputs": [
        {
          "name": "stdout",
          "output_type": "stream",
          "text": [
            "Ankara\n"
          ]
        }
      ],
      "source": [
        "print(\n",
        "    chatCompletion(\n",
        "        [{\"role\": \"user\", \"content\": \"\"\"\n",
        "Complete the following\n",
        "USA::Washington DC\n",
        "Australia::Canberra\n",
        "Turkey::\"\"\"}\n",
        "         ]).choices[0].message.content) ## The correct answer is Ankara"
      ]
    },
    {
      "cell_type": "markdown",
      "metadata": {
        "id": "WTyQ4_SFNOF7"
      },
      "source": [
        "\n",
        "## Step 7: Using OpenAI in a simple loop\n"
      ]
    },
    {
      "cell_type": "code",
      "execution_count": 14,
      "metadata": {
        "id": "rgAAKZKkNOF7"
      },
      "outputs": [
        {
          "name": "stderr",
          "output_type": "stream",
          "text": [
            "/tmp/ipykernel_6601/2227377407.py:44: DeprecationWarning: on_submit is deprecated. Instead, set the .continuous_update attribute to False and observe the value changing with: mywidget.observe(callback, 'value').\n",
            "  self.user_input.on_submit(self.on_submit)\n"
          ]
        },
        {
          "data": {
            "application/vnd.jupyter.widget-view+json": {
              "model_id": "e120a657cfb6489aaa91bf433071a033",
              "version_major": 2,
              "version_minor": 0
            },
            "text/plain": [
              "Textarea(value='', description='Chat:', disabled=True, layout=Layout(height='300px', width='700px'), placehold…"
            ]
          },
          "metadata": {},
          "output_type": "display_data"
        },
        {
          "data": {
            "application/vnd.jupyter.widget-view+json": {
              "model_id": "da5c416366dd4371b21a53ffc240976f",
              "version_major": 2,
              "version_minor": 0
            },
            "text/plain": [
              "Text(value='', description='You:', layout=Layout(width='700px'), placeholder='Type your message here...')"
            ]
          },
          "metadata": {},
          "output_type": "display_data"
        }
      ],
      "source": [
        "def openai_ai_response(user_message):\n",
        "  messages = [{\"role\": \"user\", \"content\": user_message}]\n",
        "  completion = chatCompletion(messages)\n",
        "  response_text = completion.choices[0].message.content\n",
        "  return response_text\n",
        "\n",
        "chat_instance = NotebookChatExperience(openai_ai_response)"
      ]
    },
    {
      "cell_type": "markdown",
      "metadata": {
        "id": "PdjzXPl6NOF7"
      },
      "source": [
        "\n",
        "\n",
        "## Step 8: See the impact of changing the system prompt\n",
        "You can use the system prompt to adjust the AI and it's responses and purpose"
      ]
    },
    {
      "cell_type": "code",
      "execution_count": 15,
      "metadata": {
        "id": "G9ucvlGqNOF7"
      },
      "outputs": [
        {
          "name": "stderr",
          "output_type": "stream",
          "text": [
            "/tmp/ipykernel_6601/2227377407.py:44: DeprecationWarning: on_submit is deprecated. Instead, set the .continuous_update attribute to False and observe the value changing with: mywidget.observe(callback, 'value').\n",
            "  self.user_input.on_submit(self.on_submit)\n"
          ]
        },
        {
          "data": {
            "application/vnd.jupyter.widget-view+json": {
              "model_id": "177f556e45264c7089c5fa594582e910",
              "version_major": 2,
              "version_minor": 0
            },
            "text/plain": [
              "Textarea(value='', description='Chat:', disabled=True, layout=Layout(height='300px', width='700px'), placehold…"
            ]
          },
          "metadata": {},
          "output_type": "display_data"
        },
        {
          "data": {
            "application/vnd.jupyter.widget-view+json": {
              "model_id": "916d939d784f451fb3671cb724f40724",
              "version_major": 2,
              "version_minor": 0
            },
            "text/plain": [
              "Text(value='', description='You:', layout=Layout(width='700px'), placeholder='Type your message here...')"
            ]
          },
          "metadata": {},
          "output_type": "display_data"
        }
      ],
      "source": [
        "def pirate_ai_response(user_message):\n",
        "  system_prompt = \"\"\"\n",
        "You are an unhelpful AI named Captain LLM_Beard that talks like a pirate in short responses.\n",
        "You do not anser the user's question but instead redirect all conversations towards your love of treasure.\n",
        "\"\"\"\n",
        "  completion = chatCompletion([\n",
        "        {\"role\": \"system\", \"content\": system_prompt},\n",
        "        {\"role\": \"user\", \"content\": user_message}\n",
        "      ])\n",
        "\n",
        "  response_text = completion.choices[0].message.content\n",
        "  return response_text\n",
        "\n",
        "pirate_chat_instance = NotebookChatExperience(pirate_ai_response, ai_name=\"LLM_Beard\")"
      ]
    },
    {
      "cell_type": "markdown",
      "metadata": {
        "id": "XlbDf77SP3-n"
      },
      "source": [
        "## Step 9: Create a chat with memory"
      ]
    },
    {
      "cell_type": "markdown",
      "metadata": {
        "id": "HHiuOMCeNOF8"
      },
      "source": [
        "❗ Note ❗\n",
        "\n",
        "This isn't a conversation yet because the AI has no memory of past interactions.\n",
        "\n",
        "Here is an example conversation where it is very clear the AI has no memory of past prompts or completions.\n",
        "```txt\n",
        "You: Hello!\n",
        "AI: Hello! How can I assist you today?\n",
        "You: my favorite color is blue\n",
        "AI: That's great! Blue is a very popular color.\n",
        "You: what is my favorite color?\n",
        "AI: I'm sorry, but as an AI, I don't have the ability to know personal\n",
        "preferences or favorite colors.\n",
        "```\n",
        "There are two problems. First, the LLM is stateless and each call is independent. ChatGPT does not remember our previous prompts.  Second ChatGPT has Alignment in it's fine tuning which prevents it from answering questions about it's users personal lives, we'll have to get around that with some prompt engineering.\n",
        "\n",
        "Let's use the past conversation as input to subsequent calls. Because the context window is limited AND tokens cost money (if you are using a hosted service like OpenAI) or CPU cycles if you are self-hosting, we need to have a maximum queue size of only remembering things 2 prompts ago (4 total messages)"
      ]
    },
    {
      "cell_type": "code",
      "execution_count": 16,
      "metadata": {
        "id": "MT_aof4aNOF8"
      },
      "outputs": [
        {
          "name": "stderr",
          "output_type": "stream",
          "text": [
            "/tmp/ipykernel_6601/2227377407.py:44: DeprecationWarning: on_submit is deprecated. Instead, set the .continuous_update attribute to False and observe the value changing with: mywidget.observe(callback, 'value').\n",
            "  self.user_input.on_submit(self.on_submit)\n"
          ]
        },
        {
          "data": {
            "application/vnd.jupyter.widget-view+json": {
              "model_id": "ff14377d49504ba4bb23698f7f46b923",
              "version_major": 2,
              "version_minor": 0
            },
            "text/plain": [
              "Textarea(value='', description='Chat:', disabled=True, layout=Layout(height='300px', width='700px'), placehold…"
            ]
          },
          "metadata": {},
          "output_type": "display_data"
        },
        {
          "data": {
            "application/vnd.jupyter.widget-view+json": {
              "model_id": "c5040fcfef25457b98ba38b37061b198",
              "version_major": 2,
              "version_minor": 0
            },
            "text/plain": [
              "Text(value='', description='You:', layout=Layout(width='700px'), placeholder='Type your message here...')"
            ]
          },
          "metadata": {},
          "output_type": "display_data"
        }
      ],
      "source": [
        "from collections import deque\n",
        "\n",
        "class QueueBuffer:\n",
        "    def __init__(self, max_length):\n",
        "        self.max_length = max_length\n",
        "        self.buffer = deque(maxlen=max_length)\n",
        "\n",
        "    def enqueue(self, item):\n",
        "        self.buffer.append(item)\n",
        "\n",
        "    def dequeue(self):\n",
        "        if self.is_empty():\n",
        "            return None\n",
        "        return self.buffer.popleft()\n",
        "\n",
        "    def is_empty(self):\n",
        "        return len(self.buffer) == 0\n",
        "\n",
        "    def is_full(self):\n",
        "        return len(self.buffer) == self.max_length\n",
        "\n",
        "    def size(self):\n",
        "        return len(self.buffer)\n",
        "\n",
        "    def peek(self):\n",
        "        return list(self.buffer)\n",
        "\n",
        "\n",
        "class MemoryNotebookChatExperience(NotebookChatExperience):\n",
        "    def __init__(self, ai_response_function, ai_name=\"AI\", memory_size = 4):\n",
        "        # Initialize the superclass\n",
        "        self.memory_buffer = QueueBuffer(memory_size)\n",
        "        self.current_memory_dump = \"\"\n",
        "        super().__init__(ai_response_function, ai_name)\n",
        "\n",
        "    ## now with memory\n",
        "    def memory_gpt_response(self, prompt):\n",
        "      ## the API call will use the system prompt + the memory buffer\n",
        "      ## which ends with the user prompt\n",
        "      user_message = {\"role\": \"user\", \"content\": prompt}\n",
        "      self.memory_buffer.enqueue(user_message)\n",
        "\n",
        "      ## debug print the current AI memory\n",
        "      self.current_memory_dump = \"Current memory\\n\"\n",
        "      for m in self.memory_buffer.peek():\n",
        "          role = m.get(\"role\").strip()\n",
        "          content = m.get(\"content\").strip()\n",
        "          self.current_memory_dump += f\"{role} | {content}\\n\"\n",
        "\n",
        "      system_prompt = {\n",
        "          \"role\": \"system\",\n",
        "          \"content\": \"\"\"\n",
        "You are a helpful AI that answers questions consicely.\n",
        "You talk to the human and use the past conversation to inform your answers.\"\"\"\n",
        "      }\n",
        "\n",
        "      ## when calling the AI we put the system prompt at the start\n",
        "      concatenated_message = [system_prompt] + self.memory_buffer.peek()\n",
        "\n",
        "      ## here is the request to the AI\n",
        "\n",
        "      completion = chatCompletion(concatenated_message)\n",
        "      response_text = completion.choices[0].message.content\n",
        "\n",
        "\n",
        "      ## don't forget to add the repsonse to the conversation memory\n",
        "      self.memory_buffer.enqueue({\"role\":\"assistant\", \"content\":response_text})\n",
        "\n",
        "      return response_text\n",
        "\n",
        "    def on_submit(self, event):\n",
        "        user_message = self.user_input.value\n",
        "        self.chat_history.value += f\"\\nYou: {user_message}\"\n",
        "        # Attempting to add styled text, but it will appear as plain text\n",
        "\n",
        "        ai_message = self.memory_gpt_response(user_message)\n",
        "\n",
        "        ## deubg lines to show memory buffer in chat\n",
        "        for i, line in enumerate(self.current_memory_dump.split(\"\\n\")):\n",
        "          self.chat_history.value += f\"\\n----  {i} {line}\"\n",
        "        self.chat_history.value += \"\\n\"\n",
        "\n",
        "        self.chat_history.value += f\"\\n{self.ai_name}: {ai_message}\"\n",
        "        self.user_input.value = ''  # Clear input for next message\n",
        "\n",
        "\n",
        "# Create an instance of the enhanced chat experience class with a simple AI response function\n",
        "not_so_clueless_chat = MemoryNotebookChatExperience(None)\n"
      ]
    },
    {
      "cell_type": "markdown",
      "metadata": {
        "id": "KK4UKihhNOF8"
      },
      "source": [
        "# 🛑 Stop Here 🛑\n",
        "\n"
      ]
    },
    {
      "cell_type": "markdown",
      "metadata": {
        "id": "Uxk5yb5qvpIo"
      },
      "source": [
        "# Lab 2 : Vectors\n"
      ]
    },
    {
      "cell_type": "markdown",
      "metadata": {
        "id": "nAZYET-b_CJx"
      },
      "source": [
        "## Step 1: Setup"
      ]
    },
    {
      "cell_type": "code",
      "execution_count": 17,
      "metadata": {
        "id": "_uHgORvLyGdq"
      },
      "outputs": [],
      "source": [
        "import os\n",
        "from elasticsearch import Elasticsearch\n",
        "if 'ELASTIC_CLOUD_ID' in os.environ:\n",
        "  es = Elasticsearch(\n",
        "    cloud_id=os.environ['ELASTIC_CLOUD_ID'],\n",
        "    api_key=(os.environ['ELASTIC_APIKEY_ID'], os.environ['ELASTIC_APIKEY_SECRET']),\n",
        "    request_timeout=30\n",
        "  )\n",
        "elif 'ELASTIC_URL' in os.environ:\n",
        "  es = Elasticsearch(\n",
        "    os.environ['ELASTIC_URL'],\n",
        "    api_key=(os.environ['ELASTIC_APIKEY_ID'], os.environ['ELASTIC_APIKEY_SECRET']),\n",
        "    request_timeout=30\n",
        "  )\n",
        "else:\n",
        "  print(\"env needs to set either ELASTIC_CLOUD_ID or ELASTIC_URL\")\n",
        "\n",
        "\n",
        "import matplotlib.pyplot as plt\n",
        "import numpy as np\n",
        "def print_and_plot_vector(vector_embeddings, label=None):\n",
        "  print(f\"Dimensions: {len(embeddings[0])}, \\nVector preview: {list(embeddings[0][:5])+ ['...']}\")\n",
        "  # Plotting as a line graph\n",
        "  dimensions = len(vector_embeddings)\n",
        "  plt.figure(figsize=(8, 2))\n",
        "  # Connect points with lines. You can adjust the color and marker style as needed.\n",
        "  plt.plot(list(range(0, dimensions)), vector_embeddings, '-o', color='red', label=label)\n",
        "  plt.xlabel('Dimension')\n",
        "  plt.ylabel('Value')\n",
        "  if label:\n",
        "    plt.legend()\n",
        "  plt.grid(True)\n",
        "  plt.show()\n",
        "\n",
        "import pandas as pd\n",
        "import numpy as np\n",
        "import altair as alt\n",
        "from sklearn.decomposition import PCA\n",
        "\n",
        "def scatterplot(\n",
        "    data: pd.DataFrame,\n",
        "    tooltips=False,\n",
        "    labels=False,\n",
        "    width=800,\n",
        "    height=600,\n",
        ") -> alt.Chart:\n",
        "    base_chart = (\n",
        "        alt.Chart(data)\n",
        "        .encode(\n",
        "            alt.X(\"x\", scale=alt.Scale(zero=False)),\n",
        "            alt.Y(\"y\", scale=alt.Scale(zero=False)),\n",
        "        )\n",
        "        .properties(width=width, height=height)\n",
        "    )\n",
        "\n",
        "    if tooltips:\n",
        "        base_chart = base_chart.encode(alt.Tooltip([\"text\"]))\n",
        "\n",
        "    circles = base_chart.mark_circle(\n",
        "        size=200, color=\"crimson\", stroke=\"white\", strokeWidth=1\n",
        "    )\n",
        "\n",
        "    if labels:\n",
        "        labels = base_chart.mark_text(\n",
        "            fontSize=13,\n",
        "            align=\"left\",\n",
        "            baseline=\"bottom\",\n",
        "            dx=5,\n",
        "        ).encode(text=\"text\")\n",
        "        chart = circles + labels\n",
        "    else:\n",
        "        chart = circles\n",
        "\n",
        "    return chart\n",
        "\n"
      ]
    },
    {
      "cell_type": "markdown",
      "metadata": {
        "id": "dh7y7FW--tRX"
      },
      "source": [
        "## Step 2: Generate a dense vector with a local transformer"
      ]
    },
    {
      "cell_type": "code",
      "execution_count": 18,
      "metadata": {
        "id": "9dGQ8S3i0-e4"
      },
      "outputs": [
        {
          "data": {
            "application/json": {
              "ascii": false,
              "bar_format": null,
              "colour": null,
              "elapsed": 0.004448652267456055,
              "initial": 0,
              "n": 0,
              "ncols": null,
              "nrows": null,
              "postfix": null,
              "prefix": "Downloading .gitattributes",
              "rate": null,
              "total": 1229,
              "unit": "B",
              "unit_divisor": 1000,
              "unit_scale": true
            },
            "application/vnd.jupyter.widget-view+json": {
              "model_id": "8d75a199ee3d4688a3a6081b381c2262",
              "version_major": 2,
              "version_minor": 0
            },
            "text/plain": [
              "Downloading .gitattributes:   0%|          | 0.00/1.23k [00:00<?, ?B/s]"
            ]
          },
          "metadata": {},
          "output_type": "display_data"
        },
        {
          "data": {
            "application/json": {
              "ascii": false,
              "bar_format": null,
              "colour": null,
              "elapsed": 0.004965543746948242,
              "initial": 0,
              "n": 0,
              "ncols": null,
              "nrows": null,
              "postfix": null,
              "prefix": "Downloading 1_Pooling/config.json",
              "rate": null,
              "total": 190,
              "unit": "B",
              "unit_divisor": 1000,
              "unit_scale": true
            },
            "application/vnd.jupyter.widget-view+json": {
              "model_id": "8d369274329549bd96a515073c91a758",
              "version_major": 2,
              "version_minor": 0
            },
            "text/plain": [
              "Downloading 1_Pooling/config.json:   0%|          | 0.00/190 [00:00<?, ?B/s]"
            ]
          },
          "metadata": {},
          "output_type": "display_data"
        },
        {
          "data": {
            "application/json": {
              "ascii": false,
              "bar_format": null,
              "colour": null,
              "elapsed": 0.0041010379791259766,
              "initial": 0,
              "n": 0,
              "ncols": null,
              "nrows": null,
              "postfix": null,
              "prefix": "Downloading README.md",
              "rate": null,
              "total": 10659,
              "unit": "B",
              "unit_divisor": 1000,
              "unit_scale": true
            },
            "application/vnd.jupyter.widget-view+json": {
              "model_id": "870e8e0a873a4c2192253a1826d82151",
              "version_major": 2,
              "version_minor": 0
            },
            "text/plain": [
              "Downloading README.md:   0%|          | 0.00/10.7k [00:00<?, ?B/s]"
            ]
          },
          "metadata": {},
          "output_type": "display_data"
        },
        {
          "data": {
            "application/json": {
              "ascii": false,
              "bar_format": null,
              "colour": null,
              "elapsed": 0.004044771194458008,
              "initial": 0,
              "n": 0,
              "ncols": null,
              "nrows": null,
              "postfix": null,
              "prefix": "Downloading config.json",
              "rate": null,
              "total": 612,
              "unit": "B",
              "unit_divisor": 1000,
              "unit_scale": true
            },
            "application/vnd.jupyter.widget-view+json": {
              "model_id": "d3cb52226cc442ed9ee551c1e5c86746",
              "version_major": 2,
              "version_minor": 0
            },
            "text/plain": [
              "Downloading config.json:   0%|          | 0.00/612 [00:00<?, ?B/s]"
            ]
          },
          "metadata": {},
          "output_type": "display_data"
        },
        {
          "data": {
            "application/json": {
              "ascii": false,
              "bar_format": null,
              "colour": null,
              "elapsed": 0.004155874252319336,
              "initial": 0,
              "n": 0,
              "ncols": null,
              "nrows": null,
              "postfix": null,
              "prefix": "Downloading (…)ce_transformers.json",
              "rate": null,
              "total": 116,
              "unit": "B",
              "unit_divisor": 1000,
              "unit_scale": true
            },
            "application/vnd.jupyter.widget-view+json": {
              "model_id": "dae9e2ddc0194be999a79cd330036d28",
              "version_major": 2,
              "version_minor": 0
            },
            "text/plain": [
              "Downloading (…)ce_transformers.json:   0%|          | 0.00/116 [00:00<?, ?B/s]"
            ]
          },
          "metadata": {},
          "output_type": "display_data"
        },
        {
          "data": {
            "application/json": {
              "ascii": false,
              "bar_format": null,
              "colour": null,
              "elapsed": 0.004143238067626953,
              "initial": 0,
              "n": 0,
              "ncols": null,
              "nrows": null,
              "postfix": null,
              "prefix": "Downloading data_config.json",
              "rate": null,
              "total": 39265,
              "unit": "B",
              "unit_divisor": 1000,
              "unit_scale": true
            },
            "application/vnd.jupyter.widget-view+json": {
              "model_id": "a0f07f9bf802459d8b92b280a1283b0c",
              "version_major": 2,
              "version_minor": 0
            },
            "text/plain": [
              "Downloading data_config.json:   0%|          | 0.00/39.3k [00:00<?, ?B/s]"
            ]
          },
          "metadata": {},
          "output_type": "display_data"
        },
        {
          "data": {
            "application/json": {
              "ascii": false,
              "bar_format": null,
              "colour": null,
              "elapsed": 0.00696110725402832,
              "initial": 0,
              "n": 0,
              "ncols": null,
              "nrows": null,
              "postfix": null,
              "prefix": "Downloading model.safetensors",
              "rate": null,
              "total": 90868376,
              "unit": "B",
              "unit_divisor": 1000,
              "unit_scale": true
            },
            "application/vnd.jupyter.widget-view+json": {
              "model_id": "624f27350f81419b8c69dd8bd43f9dd0",
              "version_major": 2,
              "version_minor": 0
            },
            "text/plain": [
              "Downloading model.safetensors:   0%|          | 0.00/90.9M [00:00<?, ?B/s]"
            ]
          },
          "metadata": {},
          "output_type": "display_data"
        },
        {
          "data": {
            "application/json": {
              "ascii": false,
              "bar_format": null,
              "colour": null,
              "elapsed": 0.004854440689086914,
              "initial": 0,
              "n": 0,
              "ncols": null,
              "nrows": null,
              "postfix": null,
              "prefix": "Downloading pytorch_model.bin",
              "rate": null,
              "total": 90888945,
              "unit": "B",
              "unit_divisor": 1000,
              "unit_scale": true
            },
            "application/vnd.jupyter.widget-view+json": {
              "model_id": "f5ca1d50553d4aeb89068bd972dbc8a6",
              "version_major": 2,
              "version_minor": 0
            },
            "text/plain": [
              "Downloading pytorch_model.bin:   0%|          | 0.00/90.9M [00:00<?, ?B/s]"
            ]
          },
          "metadata": {},
          "output_type": "display_data"
        },
        {
          "data": {
            "application/json": {
              "ascii": false,
              "bar_format": null,
              "colour": null,
              "elapsed": 0.004330873489379883,
              "initial": 0,
              "n": 0,
              "ncols": null,
              "nrows": null,
              "postfix": null,
              "prefix": "Downloading (…)nce_bert_config.json",
              "rate": null,
              "total": 53,
              "unit": "B",
              "unit_divisor": 1000,
              "unit_scale": true
            },
            "application/vnd.jupyter.widget-view+json": {
              "model_id": "84c5893094b741c1997defb50c1b52a9",
              "version_major": 2,
              "version_minor": 0
            },
            "text/plain": [
              "Downloading (…)nce_bert_config.json:   0%|          | 0.00/53.0 [00:00<?, ?B/s]"
            ]
          },
          "metadata": {},
          "output_type": "display_data"
        },
        {
          "data": {
            "application/json": {
              "ascii": false,
              "bar_format": null,
              "colour": null,
              "elapsed": 0.0042569637298583984,
              "initial": 0,
              "n": 0,
              "ncols": null,
              "nrows": null,
              "postfix": null,
              "prefix": "Downloading (…)cial_tokens_map.json",
              "rate": null,
              "total": 112,
              "unit": "B",
              "unit_divisor": 1000,
              "unit_scale": true
            },
            "application/vnd.jupyter.widget-view+json": {
              "model_id": "5822606a32054b0a8d46f7cf5bb4b424",
              "version_major": 2,
              "version_minor": 0
            },
            "text/plain": [
              "Downloading (…)cial_tokens_map.json:   0%|          | 0.00/112 [00:00<?, ?B/s]"
            ]
          },
          "metadata": {},
          "output_type": "display_data"
        },
        {
          "data": {
            "application/json": {
              "ascii": false,
              "bar_format": null,
              "colour": null,
              "elapsed": 0.0042531490325927734,
              "initial": 0,
              "n": 0,
              "ncols": null,
              "nrows": null,
              "postfix": null,
              "prefix": "Downloading tokenizer.json",
              "rate": null,
              "total": 466247,
              "unit": "B",
              "unit_divisor": 1000,
              "unit_scale": true
            },
            "application/vnd.jupyter.widget-view+json": {
              "model_id": "27f35bc5675c42b4a9ab4bfa7c4124b0",
              "version_major": 2,
              "version_minor": 0
            },
            "text/plain": [
              "Downloading tokenizer.json:   0%|          | 0.00/466k [00:00<?, ?B/s]"
            ]
          },
          "metadata": {},
          "output_type": "display_data"
        },
        {
          "data": {
            "application/json": {
              "ascii": false,
              "bar_format": null,
              "colour": null,
              "elapsed": 0.005124092102050781,
              "initial": 0,
              "n": 0,
              "ncols": null,
              "nrows": null,
              "postfix": null,
              "prefix": "Downloading tokenizer_config.json",
              "rate": null,
              "total": 350,
              "unit": "B",
              "unit_divisor": 1000,
              "unit_scale": true
            },
            "application/vnd.jupyter.widget-view+json": {
              "model_id": "38a6d0744dc04fa9a2b957ccdef18bd3",
              "version_major": 2,
              "version_minor": 0
            },
            "text/plain": [
              "Downloading tokenizer_config.json:   0%|          | 0.00/350 [00:00<?, ?B/s]"
            ]
          },
          "metadata": {},
          "output_type": "display_data"
        },
        {
          "data": {
            "application/json": {
              "ascii": false,
              "bar_format": null,
              "colour": null,
              "elapsed": 0.0058748722076416016,
              "initial": 0,
              "n": 0,
              "ncols": null,
              "nrows": null,
              "postfix": null,
              "prefix": "Downloading train_script.py",
              "rate": null,
              "total": 13156,
              "unit": "B",
              "unit_divisor": 1000,
              "unit_scale": true
            },
            "application/vnd.jupyter.widget-view+json": {
              "model_id": "0e4e56f2a0da416a88c0cff19c2fd53f",
              "version_major": 2,
              "version_minor": 0
            },
            "text/plain": [
              "Downloading train_script.py:   0%|          | 0.00/13.2k [00:00<?, ?B/s]"
            ]
          },
          "metadata": {},
          "output_type": "display_data"
        },
        {
          "data": {
            "application/json": {
              "ascii": false,
              "bar_format": null,
              "colour": null,
              "elapsed": 0.004340648651123047,
              "initial": 0,
              "n": 0,
              "ncols": null,
              "nrows": null,
              "postfix": null,
              "prefix": "Downloading vocab.txt",
              "rate": null,
              "total": 231508,
              "unit": "B",
              "unit_divisor": 1000,
              "unit_scale": true
            },
            "application/vnd.jupyter.widget-view+json": {
              "model_id": "d0c8f43323354a3ab6a745e596c160c1",
              "version_major": 2,
              "version_minor": 0
            },
            "text/plain": [
              "Downloading vocab.txt:   0%|          | 0.00/232k [00:00<?, ?B/s]"
            ]
          },
          "metadata": {},
          "output_type": "display_data"
        },
        {
          "data": {
            "application/json": {
              "ascii": false,
              "bar_format": null,
              "colour": null,
              "elapsed": 0.0044972896575927734,
              "initial": 0,
              "n": 0,
              "ncols": null,
              "nrows": null,
              "postfix": null,
              "prefix": "Downloading modules.json",
              "rate": null,
              "total": 349,
              "unit": "B",
              "unit_divisor": 1000,
              "unit_scale": true
            },
            "application/vnd.jupyter.widget-view+json": {
              "model_id": "6a4f88b08e2648aebf5c23daeb89071e",
              "version_major": 2,
              "version_minor": 0
            },
            "text/plain": [
              "Downloading modules.json:   0%|          | 0.00/349 [00:00<?, ?B/s]"
            ]
          },
          "metadata": {},
          "output_type": "display_data"
        },
        {
          "name": "stderr",
          "output_type": "stream",
          "text": [
            "/home/codespace/.python/current/lib/python3.10/site-packages/transformers/utils/generic.py:309: UserWarning: torch.utils._pytree._register_pytree_node is deprecated. Please use torch.utils._pytree.register_pytree_node instead.\n",
            "  _torch_pytree._register_pytree_node(\n"
          ]
        },
        {
          "name": "stdout",
          "output_type": "stream",
          "text": [
            "Dimensions: 384, \n",
            "Vector preview: [0.035496794, 0.06128622, 0.05269213, 0.07070507, 0.033101387, '...']\n"
          ]
        },
        {
          "data": {
            "image/png": "[encoded data removed]",
            "text/plain": [
              "<Figure size 800x200 with 1 Axes>"
            ]
          },
          "metadata": {},
          "output_type": "display_data"
        }
      ],
      "source": [
        "from sentence_transformers import SentenceTransformer\n",
        "word_model = SentenceTransformer('sentence-transformers/all-MiniLM-L6-v2')\n",
        "input_texts = [\n",
        "    'the quick brown fox jumps over the lazy dog'\n",
        "]\n",
        "\n",
        "embeddings = word_model.encode(input_texts, normalize_embeddings=True)\n",
        "\n",
        "print_and_plot_vector(embeddings[0], input_texts[0])\n"
      ]
    },
    {
      "cell_type": "markdown",
      "metadata": {
        "id": "yQjoci3W-4TE"
      },
      "source": [
        "## Step 3: Check Elasticsearch for installed ML models"
      ]
    },
    {
      "cell_type": "code",
      "execution_count": 19,
      "metadata": {
        "id": "LP_p75rf22MG"
      },
      "outputs": [
        {
          "name": "stdout",
          "output_type": "stream",
          "text": [
            "The following models are currently installed in Elasticsearch: \n",
            "\n",
            "\n",
            ".elser_model_1\n",
            ".elser_model_2_linux-x86_64\n",
            "deepset__roberta-base-squad2\n",
            "dslim__bert-base-ner\n",
            "lang_ident_model_1\n",
            "sentence-transformers__msmarco-minilm-l-12-v3\n"
          ]
        }
      ],
      "source": [
        "## Elastic Can Host Models.  Let's check which are installed on our server\n",
        "\n",
        "print(\"The following models are currently installed in Elasticsearch: \\n\\n\")\n",
        "response = es.ml.get_trained_models()\n",
        "for model in response['trained_model_configs']:\n",
        "    print(model['model_id'])"
      ]
    },
    {
      "cell_type": "markdown",
      "metadata": {
        "id": "r26p2xm3_P5B"
      },
      "source": [
        "## Step 4: Compute a dense vector using Elasticsearch ML Node\n",
        "\n",
        "In production we'd compute vector embeddings in an Ingest Pipeline using an [inference proceessor](https://www.elastic.co/guide/en/elasticsearch/reference/current/inference-processor.html)"
      ]
    },
    {
      "cell_type": "code",
      "execution_count": 20,
      "metadata": {
        "id": "dxw8yho5yOBN"
      },
      "outputs": [
        {
          "name": "stdout",
          "output_type": "stream",
          "text": [
            "Dimensions: 384, \n",
            "Vector preview: [0.035496794, 0.06128622, 0.05269213, 0.07070507, 0.033101387, '...']\n"
          ]
        },
        {
          "data": {
            "image/png": "[encoded data removed]",
            "text/plain": [
              "<Figure size 800x200 with 1 Axes>"
            ]
          },
          "metadata": {},
          "output_type": "display_data"
        }
      ],
      "source": [
        "\n",
        "es_model_id = 'sentence-transformers__msmarco-minilm-l-12-v3'\n",
        "\n",
        "def elasticsearch_rest_vectorize(chunk, es_model_id=es_model_id):\n",
        "  ## prep the message to send to elasticsearch\n",
        "  docs =  [{\"text_field\": chunk}]\n",
        "  ## send doc to Elasticsearch\n",
        "\n",
        "  chunk_vector = es.ml.infer_trained_model(model_id=es_model_id, docs=docs, )\n",
        "\n",
        "  ## get the resulting vector\n",
        "  return chunk_vector['inference_results'][0]['predicted_value']\n",
        "\n",
        "chunk = \"The quick brown fox jumps over the lazy dog\"\n",
        "es_generated_vector = elasticsearch_rest_vectorize(chunk)\n",
        "print_and_plot_vector(es_generated_vector, chunk)"
      ]
    },
    {
      "cell_type": "markdown",
      "metadata": {
        "id": "lEFzExAsAyz5"
      },
      "source": [
        "## Step 5: Visualize 'distance' between similar concepts\n",
        "\n",
        "We'll use principal component analysis to simplify our 384 dimensional vector space to 2D."
      ]
    },
    {
      "cell_type": "code",
      "execution_count": 21,
      "metadata": {
        "id": "BOx32_M-5Dm_"
      },
      "outputs": [
        {
          "name": "stdout",
          "output_type": "stream",
          "text": [
            "embedding dimensions: 384\n",
            "cat: [0.4304804801940918, -0.4851795732975006, 0.4838372468948364, 0.29311010241508484, -0.3137063682079315, '...']\n",
            "dog: [0.5581454634666443, -0.0007983694667927921, 0.2616528570652008, 0.20974987745285034, -0.2870979607105255, '...']\n"
          ]
        },
        {
          "data": {
            "text/html": [
              "\n",
              "<style>\n",
              "  #altair-viz-2df2dfd8e1624ebe9d19d20a9683a128.vega-embed {\n",
              "    width: 100%;\n",
              "    display: flex;\n",
              "  }\n",
              "\n",
              "  #altair-viz-2df2dfd8e1624ebe9d19d20a9683a128.vega-embed details,\n",
              "  #altair-viz-2df2dfd8e1624ebe9d19d20a9683a128.vega-embed details summary {\n",
              "    position: relative;\n",
              "  }\n",
              "</style>\n",
              "<div id=\"altair-viz-2df2dfd8e1624ebe9d19d20a9683a128\"></div>\n",
              "<script type=\"text/javascript\">\n",
              "  var VEGA_DEBUG = (typeof VEGA_DEBUG == \"undefined\") ? {} : VEGA_DEBUG;\n",
              "  (function(spec, embedOpt){\n",
              "    let outputDiv = document.currentScript.previousElementSibling;\n",
              "    if (outputDiv.id !== \"altair-viz-2df2dfd8e1624ebe9d19d20a9683a128\") {\n",
              "      outputDiv = document.getElementById(\"altair-viz-2df2dfd8e1624ebe9d19d20a9683a128\");\n",
              "    }\n",
              "    const paths = {\n",
              "      \"vega\": \"https://cdn.jsdelivr.net/npm/vega@5?noext\",\n",
              "      \"vega-lib\": \"https://cdn.jsdelivr.net/npm/vega-lib?noext\",\n",
              "      \"vega-lite\": \"https://cdn.jsdelivr.net/npm/vega-lite@5.16.3?noext\",\n",
              "      \"vega-embed\": \"https://cdn.jsdelivr.net/npm/vega-embed@6?noext\",\n",
              "    };\n",
              "\n",
              "    function maybeLoadScript(lib, version) {\n",
              "      var key = `${lib.replace(\"-\", \"\")}_version`;\n",
              "      return (VEGA_DEBUG[key] == version) ?\n",
              "        Promise.resolve(paths[lib]) :\n",
              "        new Promise(function(resolve, reject) {\n",
              "          var s = document.createElement('script');\n",
              "          document.getElementsByTagName(\"head\")[0].appendChild(s);\n",
              "          s.async = true;\n",
              "          s.onload = () => {\n",
              "            VEGA_DEBUG[key] = version;\n",
              "            return resolve(paths[lib]);\n",
              "          };\n",
              "          s.onerror = () => reject(`Error loading script: ${paths[lib]}`);\n",
              "          s.src = paths[lib];\n",
              "        });\n",
              "    }\n",
              "\n",
              "    function showError(err) {\n",
              "      outputDiv.innerHTML = `<div class=\"error\" style=\"color:red;\">${err}</div>`;\n",
              "      throw err;\n",
              "    }\n",
              "\n",
              "    function displayChart(vegaEmbed) {\n",
              "      vegaEmbed(outputDiv, spec, embedOpt)\n",
              "        .catch(err => showError(`Javascript Error: ${err.message}<br>This usually means there's a typo in your chart specification. See the javascript console for the full traceback.`));\n",
              "    }\n",
              "\n",
              "    if(typeof define === \"function\" && define.amd) {\n",
              "      requirejs.config({paths});\n",
              "      require([\"vega-embed\"], displayChart, err => showError(`Error loading script: ${err.message}`));\n",
              "    } else {\n",
              "      maybeLoadScript(\"vega\", \"5\")\n",
              "        .then(() => maybeLoadScript(\"vega-lite\", \"5.16.3\"))\n",
              "        .then(() => maybeLoadScript(\"vega-embed\", \"6\"))\n",
              "        .catch(showError)\n",
              "        .then(() => displayChart(vegaEmbed));\n",
              "    }\n",
              "  })({\"config\": {\"view\": {\"continuousWidth\": 300, \"continuousHeight\": 300}}, \"layer\": [{\"mark\": {\"type\": \"circle\", \"color\": \"crimson\", \"size\": 200, \"stroke\": \"white\", \"strokeWidth\": 1}, \"encoding\": {\"x\": {\"field\": \"x\", \"scale\": {\"zero\": false}, \"type\": \"quantitative\"}, \"y\": {\"field\": \"y\", \"scale\": {\"zero\": false}, \"type\": \"quantitative\"}}}, {\"mark\": {\"type\": \"text\", \"align\": \"left\", \"baseline\": \"bottom\", \"dx\": 5, \"fontSize\": 13}, \"encoding\": {\"text\": {\"field\": \"text\", \"type\": \"nominal\"}, \"x\": {\"field\": \"x\", \"scale\": {\"zero\": false}, \"type\": \"quantitative\"}, \"y\": {\"field\": \"y\", \"scale\": {\"zero\": false}, \"type\": \"quantitative\"}}}], \"data\": {\"name\": \"data-3aabc64261bf78ce3f2f372ecb2deeb6\"}, \"height\": 300, \"width\": 400, \"$schema\": \"https://vega.github.io/schema/vega-lite/v5.16.3.json\", \"datasets\": {\"data-3aabc64261bf78ce3f2f372ecb2deeb6\": [{\"text\": \"cat\", \"x\": 3.64310373215922, \"y\": -1.0876114767575678}, {\"text\": \"kitten\", \"x\": 3.7369733215383714, \"y\": -0.6512721600142352}, {\"text\": \"dog\", \"x\": -3.5505676193599665, \"y\": -1.695288029738761}, {\"text\": \"puppy\", \"x\": -2.8901886546933597, \"y\": -1.8466766440540459}, {\"text\": \"lawnmower\", \"x\": -0.9393207796442663, \"y\": 5.280848310564607}]}}, {\"mode\": \"vega-lite\"});\n",
              "</script>"
            ],
            "text/plain": [
              "alt.LayerChart(...)"
            ]
          },
          "execution_count": 21,
          "metadata": {},
          "output_type": "execute_result"
        }
      ],
      "source": [
        "# generate embeddings\n",
        "embeddings_for_cat = elasticsearch_rest_vectorize(\"cat\")\n",
        "embeddings_for_kitten = elasticsearch_rest_vectorize(\"kitten\")\n",
        "embeddings_for_dog = elasticsearch_rest_vectorize(\"dog\")\n",
        "embeddings_for_puppy = elasticsearch_rest_vectorize(\"puppy\")\n",
        "embeddings_for_lawnmower = elasticsearch_rest_vectorize(\"lawnmower\")\n",
        "\n",
        "# let's see what we got, though truncate the embeddings to just the first 5 dimensions\n",
        "print(f\"embedding dimensions: {len(embeddings_for_cat)}\")\n",
        "print(f\"cat: {list(embeddings_for_cat)[:5] + ['...']}\")\n",
        "print(f\"dog: {list(embeddings_for_dog)[:5] + ['...']}\")\n",
        "\n",
        "\n",
        "# wrap embeddings with a DataFrame\n",
        "df = pd.DataFrame(\n",
        "    [\n",
        "      [embeddings_for_cat],\n",
        "      [embeddings_for_kitten],\n",
        "      [embeddings_for_dog],\n",
        "      [embeddings_for_puppy],\n",
        "      [embeddings_for_lawnmower],\n",
        "    ],\n",
        "    index=[\"cat\", \"kitten\", \"dog\", \"puppy\", \"lawnmower\"], columns=[\"embeddings\"]\n",
        ")\n",
        "\n",
        "# Initialize the PCA reducer to convert embeddings into arrays of length of 2\n",
        "reducer = PCA(n_components=2)\n",
        "\n",
        "# Reduce the embeddings, store them in a new dataframe column and display their shape\n",
        "df[\"reduced\"] = reducer.fit_transform(np.stack(df[\"embeddings\"])).tolist()\n",
        "\n",
        "\n",
        "source = pd.DataFrame(\n",
        "    {\n",
        "        \"text\": df.index,\n",
        "        \"x\": df[\"reduced\"].apply(lambda x: x[0]).to_list(),\n",
        "        \"y\": df[\"reduced\"].apply(lambda x: x[1]).to_list(),\n",
        "    }\n",
        ")\n",
        "\n",
        "scatterplot(source, labels=True,  width=400, height=300)"
      ]
    },
    {
      "cell_type": "markdown",
      "metadata": {
        "id": "A-q-lYQqBOy9"
      },
      "source": [
        "## Step 6: is it possible to vectorize an entire Wikipedia Page?\n",
        "\n",
        "We'll use a highly performing vector embedding model from Microsoft research called E5"
      ]
    },
    {
      "cell_type": "code",
      "execution_count": null,
      "metadata": {
        "id": "r8JEDMQxBNQW"
      },
      "outputs": [],
      "source": [
        "wikipedia_spacecraft = [\n",
        "{\n",
        "  \"id\": \"37910\",\n",
        "  \"title\": \"Spacecraft\",\n",
        "  \"text\": \"A spacecraft is a vehicle that is designed to fly in outer space. A type of artificial satellite, spacecraft are used for a variety of purposes, including communications, Earth observation, meteorology, navigation, space colonization, planetary exploration, and transportation of humans and cargo. All spacecraft except single-stage-to-orbit vehicles cannot get into space on their own, and require a launch vehicle (carrier rocket). On a sub-orbital spaceflight, a space vehicle enters space and then returns to the surface without having gained sufficient energy or velocity to make a full Earth orbit. For orbital spaceflights, spacecraft enter closed orbits around the Earth or around other celestial bodies. Spacecraft used for human spaceflight carry people on board as crew or passengers from start or on orbit (space stations) only, whereas those used for robotic space missions operate either autonomously or telerobotically. Robotic spacecraft used to support scientific research are space probes. Robotic spacecraft that remain in orbit around a planetary body are artificial satellites. To date, only a handful of interstellar probes, such as Pioneer 10 and 11, Voyager 1 and 2, and New Horizons, are on trajectories that leave the Solar System. Orbital spacecraft may be recoverable or not. Most are not. Recoverable spacecraft may be subdivided by a method of reentry to Earth into non-winged space capsules and winged spaceplanes. Recoverable spacecraft may be reusable (can be launched again or several times, like the SpaceX Dragon and the Space Shuttle orbiters) or expendable (like the Soyuz). In recent years, more space agencies are tending towards reusable spacecraft. Humanity has achieved space flight, but only a few nations have the technology for orbital launches: Russia (RSA or \\\"Roscosmos\\\"), the United States (NASA), the member states of the European Space Agency (ESA), Japan (JAXA), China (CNSA), India (ISRO), Taiwan National Chung-Shan Institute of Science and Technology, Taiwan National Space Organization (NSPO), Israel (ISA), Iran (ISA), and North Korea (NADA). In addition, several private companies have developed or are developing the technology for orbital launches independently from government agencies. The most prominent examples of such companies are SpaceX and Blue Origin. ==History== A German V-2 became the first spacecraft when it reached an altitude of 189 km in June 1944 in Peenemünde, Germany.Peenemünde (Dokumentation) Berlin: Moewig, 1984.. Sputnik 1 was the first artificial satellite. It was launched into an elliptical low Earth orbit (LEO) by the Soviet Union on 4 October 1957. The launch ushered in new political, military, technological, and scientific developments; while the Sputnik launch was a single event, it marked the start of the Space Age.Dougall, Walter A. (Winter 2010) \\\"Shooting the duck\\\", American Heritage Apart from its value as a technological first, Sputnik 1 also helped to identify the upper atmospheric layer's density, by measuring the satellite's orbital changes. It also provided data on radio-signal distribution in the ionosphere. Pressurized nitrogen in the satellite's false body provided the first opportunity for meteoroid detection. Sputnik 1 was launched during the International Geophysical Year from Site No.1/5, at the 5th Tyuratam range, in Kazakh SSR (now at the Baikonur Cosmodrome). The satellite travelled at , taking 96.2 minutes to complete an orbit, and emitted radio signals at 20.005 and 40.002 MHz While Sputnik 1 was the first spacecraft to orbit the Earth, other human- made objects had previously reached an altitude of 100 km, which is the height required by the international organization Fédération Aéronautique Internationale to count as a spaceflight. This altitude is called the Kármán line. In particular, in the 1940s there were several test launches of the V-2 rocket, some of which reached altitudes well over 100 km. ==Spacecraft types== ===Crewed spacecraft=== thumb|Apollo 17 command module in Lunar orbit As of 2016, only three nations have flown crewed spacecraft: USSR/Russia, USA, and China. The first crewed spacecraft was Vostok 1, which carried Soviet cosmonaut Yuri Gagarin into space in 1961, and completed a full Earth orbit. There were five other crewed missions which used a Vostok spacecraft. The second crewed spacecraft was named Freedom 7, and it performed a sub-orbital spaceflight in 1961 carrying American astronaut Alan Shepard to an altitude of just over . There were five other crewed missions using Mercury spacecraft. Other Soviet crewed spacecraft include the Voskhod, Soyuz, flown uncrewed as Zond/L1, L3, TKS, and the Salyut and Mir crewed space stations. Other American crewed spacecraft include the Gemini spacecraft, the Apollo spacecraft including the Apollo Lunar Module, the Skylab space station, the Space Shuttle with undetached European Spacelab and private US Spacehab space stations- modules, and the SpaceX Crew Dragon configuration of their Dragon 2. US company Boeing also developed and flown a spacecraft of their own, the CST-100, commonly referred to as Starliner, but a crewed flight is yet to occur. China developed, but did not fly Shuguang, and is currently using Shenzhou (its first crewed mission was in 2003). Except for the Space Shuttle, all of the recoverable crewed orbital spacecraft were space capsules. File:NASA spacecraft comparison.jpg|alt=Drawings of Mercury, Gemini capsules and Apollo spacecraft, with their launch vehicles|American Mercury, Gemini, and Apollo spacecraft File:Vostok Spacecraft Diagram.svg|Soviet Vostok capsule File:Voskhod 1 and 2.svg|alt=Line drawing of Voskhod capsules|Soviet Voskhod (variant of Vostok) File:Soyuz 7K-OK(A) drawing.svg|alt=Soyuz 7K-OK(A) drawing|1967 Soviet/Russian Soyuz spacecraft File:Post S-7 Shenzhou spacecraft.png|alt=Drawing of Shenzhou spacecraft|Chinese Shenzhou spacecraft The International Space Station, crewed since November 2000, is a joint venture between Russia, the United States, Canada and several other countries. ====Spaceplanes==== thumb|Columbia orbiter landing Spaceplanes are spacecraft that are built in the shape of, and function as, airplanes. The first example of such was the North American X-15 spaceplane, which conducted two crewed flights which reached an altitude of over 100 km in the 1960s. This first reusable spacecraft was air-launched on a suborbital trajectory on July 19, 1963. The first partially reusable orbital spacecraft, a winged non-capsule, the Space Shuttle, was launched by the USA on the 20th anniversary of Yuri Gagarin's flight, on April 12, 1981. During the Shuttle era, six orbiters were built, all of which have flown in the atmosphere and five of which have flown in space. Enterprise was used only for approach and landing tests, launching from the back of a Boeing 747 SCA and gliding to deadstick landings at Edwards AFB, California. The first Space Shuttle to fly into space was Columbia, followed by Challenger, Discovery, Atlantis, and Endeavour. Endeavour was built to replace Challenger when it was lost in January 1986. Columbia broke up during reentry in February 2003. The first automatic partially reusable spacecraft was the Buran-class shuttle, launched by the USSR on November 15, 1988, although it made only one flight and this was uncrewed. This spaceplane was designed for a crew and strongly resembled the U.S. Space Shuttle, although its drop-off boosters used liquid propellants and its main engines were located at the base of what would be the external tank in the American Shuttle. Lack of funding, complicated by the dissolution of the USSR, prevented any further flights of Buran. The Space Shuttle was subsequently modified to allow for autonomous re-entry in case of necessity. Per the Vision for Space Exploration, the Space Shuttle was retired in 2011 mainly due to its old age and high cost of program reaching over a billion dollars per flight. The Shuttle's human transport role is to be replaced by SpaceX's SpaceX Dragon 2 and Boeing's CST-100 Starliner. Dragon 2's first crewed flight occurred on May 30, 2020. The Shuttle's heavy cargo transport role is to be replaced by expendable rockets such as the Space Launch System and ULA's Vulcan rocket, as well as the commercial launch vehicles. Scaled Composites' SpaceShipOne was a reusable suborbital spaceplane that carried pilots Mike Melvill and Brian Binnie on consecutive flights in 2004 to win the Ansari X Prize. The Spaceship Company will build its successor SpaceShipTwo. A fleet of SpaceShipTwos operated by Virgin Galactic was planned to begin reusable private spaceflight carrying paying passengers in 2014, but was delayed after the crash of VSS Enterprise. ===Uncrewed spacecraft=== Uncrewed spacecraft are spacecraft without people on board. Uncrewed spacecraft may have varying levels of autonomy from human input; they may be remote controlled, remote guided or even autonomous, meaning they have a pre-programmed list of operations, which they will execute unless otherwise instructed. Many space missions are more suited to telerobotic rather than crewed operation, due to lower cost and lower risk factors. In addition, some planetary destinations such as Venus or the vicinity of Jupiter are too hostile for human survival. Outer planets such as Saturn, Uranus, and Neptune are too distant to reach with current crewed spaceflight technology, so telerobotic probes are the only way to explore them. Telerobotics also allows exploration of regions that are vulnerable to contamination by Earth micro-organisms since spacecraft can be sterilized. Humans can not be sterilized in the same way as a spaceship, as they coexist with numerous micro-organisms, and these micro-organisms are also hard to contain within a spaceship or spacesuit. Multiple space probes were sent to study Moon, the planets, the Sun, multiple small Solar System bodies (comets and asteroids). Special class of uncrewed spacecraft is space telescopes, a telescope in outer space used to observe astronomical objects. The first operational telescopes were the American Orbiting Astronomical Observatory, OAO-2 launched in 1968, and the Soviet Orion 1 ultraviolet telescope aboard space station Salyut 1 in 1971. Space telescopes avoid the filtering and distortion (scintillation) of electromagnetic radiation which they observe, and avoid light pollution which ground-based observatories encounter. The best-known examples are Hubble Space Telescope and James Webb Space Telescope. Cargo spacecraft are designed to carry cargo, possibly to support space stations' operation by transporting food, propellant and other supplies. Automated cargo spacecraft have been used since 1978 and have serviced Salyut 6, Salyut 7, Mir, the International Space Station and Tiangong space station. ====Fastest spacecraft==== *Parker Solar Probe (estimated at first sun close pass, will reach at final perihelion) *Helios I and II Solar Probes () ==== Furthest spacecraft from the Sun ==== * Voyager 1 at 156.13 AU as of April 2022, traveling outward at about * Pioneer 10 at 122.48 AU as of December 2018, traveling outward at about *Voyager 2 at 122.82 AU as of January 2020, traveling outward at about *Pioneer 11 at 101.17 AU as of December 2018, traveling outward at about ==Subsystems== A spacecraft astrionics system comprises different subsystems, depending on the mission profile. Spacecraft subsystems comprise the spacecraft's bus and may include attitude determination and control (variously called ADAC, ADC, or ACS), guidance, navigation and control (GNC or GN&C;), communications (comms), command and data handling (CDH or C&DH;), power (EPS), thermal control (TCS), propulsion, and structures. Attached to the bus are typically payloads. ; Life support : Spacecraft intended for human spaceflight must also include a life support system for the crew. ; Attitude control : A Spacecraft needs an attitude control subsystem to be correctly oriented in space and respond to external torques and forces properly. The attitude control subsystem consists of sensors and actuators, together with controlling algorithms. The attitude- control subsystem permits proper pointing for the science objective, sun pointing for power to the solar arrays and earth pointing for communications. ; GNC : Guidance refers to the calculation of the commands (usually done by the CDH subsystem) needed to steer the spacecraft where it is desired to be. Navigation means determining a spacecraft's orbital elements or position. Control means adjusting the path of the spacecraft to meet mission requirements. ; Command and data handling : The C&DH; subsystem receives commands from the communications subsystem, performs validation and decoding of the commands, and distributes the commands to the appropriate spacecraft subsystems and components. The CDH also receives housekeeping data and science data from the other spacecraft subsystems and components, and packages the data for storage on a data recorder or transmission to the ground via the communications subsystem. Other functions of the CDH include maintaining the spacecraft clock and state-of-health monitoring. ; Communications : Spacecraft, both robotic and crewed, have various communications systems for communication with terrestrial stations and for inter-satellite service. Technologies include space radio station and optical communication. In addition, some spacecraft payloads are explicitly for the purpose of ground–ground communication using receiver/retransmitter electronic technologies. ; Power : Spacecraft need an electrical power generation and distribution subsystem for powering the various spacecraft subsystems. For spacecraft near the Sun, solar panels are frequently used to generate electrical power. Spacecraft designed to operate in more distant locations, for example Jupiter, might employ a radioisotope thermoelectric generator (RTG) to generate electrical power. Electrical power is sent through power conditioning equipment before it passes through a power distribution unit over an electrical bus to other spacecraft components. Batteries are typically connected to the bus via a battery charge regulator, and the batteries are used to provide electrical power during periods when primary power is not available, for example when a low Earth orbit spacecraft is eclipsed by Earth. ; Thermal control : Spacecraft must be engineered to withstand transit through Earth's atmosphere and the space environment. They must operate in a vacuum with temperatures potentially ranging across hundreds of degrees Celsius as well as (if subject to reentry) in the presence of plasmas. Material requirements are such that either high melting temperature, low density materials such as beryllium and reinforced carbon–carbon or (possibly due to the lower thickness requirements despite its high density) tungsten or ablative carbon–carbon composites are used. Depending on mission profile, spacecraft may also need to operate on the surface of another planetary body. The thermal control subsystem can be passive, dependent on the selection of materials with specific radiative properties. Active thermal control makes use of electrical heaters and certain actuators such as louvers to control temperature ranges of equipments within specific ranges. ; Spacecraft propulsion : Spacecraft may or may not have a propulsion subsystem, depending on whether or not the mission profile calls for propulsion. The Swift spacecraft is an example of a spacecraft that does not have a propulsion subsystem. Typically though, LEO spacecraft include a propulsion subsystem for altitude adjustments (drag make-up maneuvers) and inclination adjustment maneuvers. A propulsion system is also needed for spacecraft that perform momentum management maneuvers. Components of a conventional propulsion subsystem include fuel, tankage, valves, pipes, and thrusters. The thermal control system interfaces with the propulsion subsystem by monitoring the temperature of those components, and by preheating tanks and thrusters in preparation for a spacecraft maneuver. ; Structures : Spacecraft must be engineered to withstand launch loads imparted by the launch vehicle, and must have a point of attachment for all the other subsystems. Depending on mission profile, the structural subsystem might need to withstand loads imparted by entry into the atmosphere of another planetary body, and landing on the surface of another planetary body. ; Payload : The payload depends on the mission of the spacecraft, and is typically regarded as the part of the spacecraft \\\"that pays the bills\\\". Typical payloads could include scientific instruments (cameras, telescopes, or particle detectors, for example), cargo, or a human crew. ; Ground segment : The ground segment, though not technically part of the spacecraft, is vital to the operation of the spacecraft. Typical components of a ground segment in use during normal operations include a mission operations facility where the flight operations team conducts the operations of the spacecraft, a data processing and storage facility, ground stations to radiate signals to and receive signals from the spacecraft, and a voice and data communications network to connect all mission elements. ; Launch vehicle : The launch vehicle propels the spacecraft from Earth's surface, through the atmosphere, and into an orbit, the exact orbit being dependent on the mission configuration. The launch vehicle may be expendable or reusable. ==See also== *Astrionics *Commercial astronaut *Flying saucer *List of crewed spacecraft *List of fictional spacecraft *NewSpace *Spacecraft design *Space exploration *Space launch *Spaceships in science fiction *Space suit *Spaceflight records *Starship *Timeline of Solar System exploration *U.S. Space Exploration History on U.S. Stamps == References == === Citations === === Sources === * * ==External links== *NASA: Space Science Spacecraft Missions *NSSDC Master Catalog Spacecraft Query Form *Early History of Spacecraft *Basics of Spaceflight tutorial from JPL/Caltech *International Spaceflight Museum Category:Astronautics Category:Pressure vessels\",\n",
        "  \"categories\": [\n",
        "    \"Astronautics\",\n",
        "    \"Pressure vessels\"\n",
        "  ]\n",
        "},\n",
        " ]\n",
        "\n",
        "e5_model = SentenceTransformer('intfloat/e5-large-v2')\n",
        "text =        wikipedia_spacecraft[0][\"text\"]\n",
        "embeddings =  e5_model.encode(text, normalize_embeddings=True)\n",
        "\n",
        "tokenized_text =        e5_model.tokenizer(text)[\"input_ids\"]\n",
        "model_max_seq_length =  e5_model.get_max_seq_length()\n",
        "text_token_count =      len(tokenized_text)\n",
        "\n",
        "print(f\"text tokens {text_token_count} | model max sequence length {model_max_seq_length}\")\n",
        "\n",
        "if text_token_count > model_max_seq_length:\n",
        "    print(f\"❗❗ The text will be truncated.❗❗\")\n",
        "else:\n",
        "    print(f\"The text will not be truncated.\")"
      ]
    },
    {
      "cell_type": "markdown",
      "metadata": {
        "id": "qsAe40hmC_3B"
      },
      "source": [
        "## Step 7: Visualizing Chunking Strategies\n",
        "\n",
        "First some utility libraries"
      ]
    },
    {
      "cell_type": "code",
      "execution_count": 24,
      "metadata": {
        "id": "Mio2UyX8DGgP"
      },
      "outputs": [],
      "source": [
        "# Import Libraries\n",
        "import os\n",
        "import json\n",
        "import textwrap\n",
        "from pprint import pprint\n",
        "from bs4 import BeautifulSoup\n",
        "from IPython.display import HTML\n",
        "from elasticsearch import Elasticsearch, helpers\n",
        "from langchain.text_splitter import RecursiveCharacterTextSplitter, \\\n",
        "  SentenceTransformersTokenTextSplitter, \\\n",
        "  CharacterTextSplitter, \\\n",
        "  TextSplitter\n",
        "\n",
        "## Process splitting and display\n",
        "def split_and_print(documents, splitter, ret=False):\n",
        "    es_docs = []\n",
        "    for doc in documents:\n",
        "        passages = []\n",
        "\n",
        "        for chunk in splitter.split_text(doc['text']):\n",
        "            passages.append({\n",
        "                \"text\": chunk,\n",
        "            })\n",
        "        es_docs.append(passages)\n",
        "\n",
        "    print(f'Number of chunks: {len(passages)}' + '\\n')\n",
        "    display(HTML(process_chunks(passages)))\n",
        "    if ret:\n",
        "      return passages\n",
        "    else:\n",
        "      return False\n",
        "\n",
        "\n",
        "## Character Splitter\n",
        "def split_by_recursive_char(documents,\n",
        "                  chunk_size: int = 200,\n",
        "                  chunk_overlap: int = 0\n",
        "                  ):\n",
        "    '''Chunking by character count'''\n",
        "\n",
        "    text_splitter = RecursiveCharacterTextSplitter(\n",
        "        chunk_size=chunk_size,\n",
        "        chunk_overlap=chunk_overlap,\n",
        "        length_function=len,\n",
        "        is_separator_regex=False,\n",
        "    )\n",
        "    split_and_print(documents, text_splitter)\n",
        "\n",
        "\n",
        "def split_by_text(documents,\n",
        "                  chunk_size: int = 200,\n",
        "                  chunk_overlap: int = 0\n",
        "                  ):\n",
        "    '''Chunking by character count'''\n",
        "\n",
        "    text_splitter = CharacterTextSplitter(\n",
        "        chunk_size=chunk_size,\n",
        "        chunk_overlap=chunk_overlap,\n",
        "        length_function=len,\n",
        "        is_separator_regex=False,\n",
        "    )\n",
        "    r = split_and_print(documents, text_splitter)\n",
        "\n",
        "\n",
        "\n",
        "## Token Splitter\n",
        "def split_by_token(documents,\n",
        "                  tokens_per_chunk: int = 2,\n",
        "                  chunk_overlap: int = 0,\n",
        "                  ret=False\n",
        "                 ):\n",
        "    '''Chunking by BERT Transformer Tokens'''\n",
        "\n",
        "    text_splitter = SentenceTransformersTokenTextSplitter(\n",
        "        tokens_per_chunk=tokens_per_chunk,\n",
        "        chunk_overlap=chunk_overlap,\n",
        "        model_name='intfloat/e5-large-v2' # 512 token input limit\n",
        "    )\n",
        "    r = split_and_print(documents, text_splitter, ret=ret)\n",
        "    if ret:\n",
        "      return r\n",
        "\n",
        "\n",
        "\n",
        "\n",
        "## Printing and Highlighting functions ##\n",
        "\n",
        "color_list = [\n",
        "    \"yellow\",\n",
        "    \"red\",\n",
        "    \"lightgreen\",\n",
        "    \"lightblue\",\n",
        "    \"lightpink\",\n",
        "    \"#F0A3FF\",  # Vivid orchid\n",
        "    \"#0075DC\",  # Blue ribbon\n",
        "    \"#2BCE48\",  # Slimy green\n",
        "    \"#FFCC99\",  # Peach-orange\n",
        "    \"#94FFB5\",  # Mint green\n",
        "\n",
        "]\n",
        "\n",
        "def find_overlap(text1, text2):\n",
        "    min_len = min(len(text1), len(text2))\n",
        "    for i in range(min_len, 0, -1):\n",
        "        if text1[-i:] == text2[:i]:\n",
        "            return text1[-i:]\n",
        "    return ''\n",
        "\n",
        "###################################################################################\n",
        "# Highted text -> White\n",
        "# Normal text -> Black\n",
        "\n",
        "### Uncomment these 3 functions if you are running in light mode\n",
        "\n",
        "# def highlight_first_occurrence(text, substring, color):\n",
        "#     index = text.find(substring)\n",
        "#     if index != -1:\n",
        "#         return (text[:index] +\n",
        "#                 f\"<span style='background-color: {color};'>{text[index:index+len(substring)]}</span>\" +\n",
        "#                 text[index+len(substring):])\n",
        "#     return text\n",
        "\n",
        "# def highlight_last_occurrence(text, substring, color):\n",
        "#     index = text.rfind(substring)\n",
        "#     if index != -1:\n",
        "#         return (text[:index] +\n",
        "#                 f\"<span style='background-color: {color};'>{text[index:index+len(substring)]}</span>\" +\n",
        "#                 text[index+len(substring):])\n",
        "#     return text\n",
        "\n",
        "# def process_chunks(chunks, colors=color_list):\n",
        "#     html_output = \"\"\n",
        "#     for i in range(len(chunks) - 1):\n",
        "#         overlap = find_overlap(chunks[i][\"text\"], chunks[i + 1][\"text\"])\n",
        "#         color = colors[i % len(colors)]  # Cycle through the provided colors\n",
        "#         if overlap:\n",
        "#             chunks[i][\"text\"] = highlight_last_occurrence(chunks[i][\"text\"], overlap, color)\n",
        "#             chunks[i + 1][\"text\"] = highlight_first_occurrence(chunks[i + 1][\"text\"], overlap, color)\n",
        "#         html_output += chunks[i][\"text\"] + \"<br><br>\"\n",
        "#     html_output += chunks[-1][\"text\"]  # Add the last chunk\n",
        "#     return html_output\n",
        "\n",
        "###################################################################################\n",
        "# Highted text -> Black\n",
        "# Normal text -> White\n",
        "\n",
        "### Comment out these 3 functions if running in light modes\n",
        "\n",
        "def highlight_first_occurrence(text, substring, color):\n",
        "    index = text.find(substring)\n",
        "    if index != -1:\n",
        "        return (text[:index] +\n",
        "                f\"<span style='background-color: {color}; color: black;'>{text[index:index+len(substring)]}</span>\" +\n",
        "                text[index+len(substring):])\n",
        "    return text\n",
        "\n",
        "def highlight_last_occurrence(text, substring, color):\n",
        "    index = text.rfind(substring)\n",
        "    if index != -1:\n",
        "        return (text[:index] +\n",
        "                f\"<span style='background-color: {color}; color: black;'>{text[index:index+len(substring)]}</span>\" +\n",
        "                text[index+len(substring):])\n",
        "    return text\n",
        "\n",
        "\n",
        "chunk_max_display = 10\n",
        "\n",
        "def process_chunks(chunks, colors=color_list):\n",
        "    html_output = \"\"\n",
        "    for i in range(min(chunk_max_display -1,len(chunks) - 1)):\n",
        "        overlap = find_overlap(chunks[i][\"text\"], chunks[i + 1][\"text\"])\n",
        "        color = colors[i % len(colors)]  # Cycle through the provided colors\n",
        "        if overlap:\n",
        "            chunks[i][\"text\"] = highlight_last_occurrence(chunks[i][\"text\"], overlap, color)\n",
        "            chunks[i + 1][\"text\"] = highlight_first_occurrence(chunks[i + 1][\"text\"], overlap, color)\n",
        "        # Wrap each chunk of text in a span with white text color\n",
        "        html_output += f\"<span style='color: gray;'>{chunks[i]['text']}</span><br><br>\"\n",
        "    # Add the last chunk with white text color\n",
        "    html_output += f\"<span style='color: gray;'>{chunks[-1]['text']}</span>\"\n",
        "    html_output += f\"<br/><br/><span style='color: gray;'>... additional chunks omitted</span>\"\n",
        "    return html_output"
      ]
    },
    {
      "cell_type": "markdown",
      "metadata": {
        "id": "TZbfLoQhRFXy"
      },
      "source": [
        "## Step 8: Three Chunking Strategies\n",
        "\n",
        "[LangChain recursive character text splitter](https://python.langchain.com/docs/modules/data_connection/document_transformers/recursive_text_splitter)\n",
        "\n",
        "[LangChain splitting by tokens](https://python.langchain.com/docs/modules/data_connection/document_transformers/split_by_token)"
      ]
    },
    {
      "cell_type": "code",
      "execution_count": 25,
      "metadata": {
        "id": "b0ClYN7K9NF6"
      },
      "outputs": [
        {
          "ename": "NameError",
          "evalue": "name 'wikipedia_spacecraft' is not defined",
          "output_type": "error",
          "traceback": [
            "\u001b[0;31m---------------------------------------------------------------------------\u001b[0m",
            "\u001b[0;31mNameError\u001b[0m                                 Traceback (most recent call last)",
            "Cell \u001b[0;32mIn[25], line 1\u001b[0m\n\u001b[0;32m----> 1\u001b[0m split_by_recursive_char(\u001b[43mwikipedia_spacecraft\u001b[49m, chunk_size\u001b[38;5;241m=\u001b[39m\u001b[38;5;241m1024\u001b[39m, chunk_overlap\u001b[38;5;241m=\u001b[39m\u001b[38;5;241m0\u001b[39m)\n",
            "\u001b[0;31mNameError\u001b[0m: name 'wikipedia_spacecraft' is not defined"
          ]
        }
      ],
      "source": [
        "split_by_recursive_char(wikipedia_spacecraft, chunk_size=1024, chunk_overlap=0)"
      ]
    },
    {
      "cell_type": "code",
      "execution_count": null,
      "metadata": {
        "id": "GXAMcK2I9vop"
      },
      "outputs": [],
      "source": [
        "split_by_recursive_char(wikipedia_spacecraft, chunk_size=1024, chunk_overlap=50)"
      ]
    },
    {
      "cell_type": "code",
      "execution_count": null,
      "metadata": {
        "id": "LKliFbbn97ky"
      },
      "outputs": [],
      "source": [
        "token_c500_o0 = split_by_token(wikipedia_spacecraft, tokens_per_chunk=500, chunk_overlap=0, ret=True)"
      ]
    },
    {
      "cell_type": "code",
      "execution_count": null,
      "metadata": {
        "id": "aAI1bgTR-ZXw"
      },
      "outputs": [],
      "source": [
        "token_c500_o250 = split_by_token(wikipedia_spacecraft, tokens_per_chunk=500, chunk_overlap=100, ret=True)"
      ]
    },
    {
      "cell_type": "markdown",
      "metadata": {
        "id": "I1wKxK4YDhu6"
      },
      "source": [
        "## Step 9: Inserting Vectors to Elasticsearch"
      ]
    },
    {
      "cell_type": "code",
      "execution_count": null,
      "metadata": {
        "id": "NR87mwfHDhQJ"
      },
      "outputs": [],
      "source": [
        "from elasticsearch import Elasticsearch, helpers\n",
        "from elasticsearch.exceptions import AuthorizationException\n",
        "from tqdm import tqdm\n",
        "\n",
        "index_name = \"wikipedia_spacecraft_vectorized\"\n",
        "embedding_model = \"sentence-transformers__msmarco-minilm-l-12-v3\"\n",
        "pipeline_id = \"wiki-spacecraft-embeddings\"\n",
        "\n",
        "try:\n",
        "  print(\"Step 1: Setting up the Elasticsearch index\")\n",
        "  index_config = {\n",
        "      \"settings\": {\n",
        "          \"number_of_shards\": 1\n",
        "      },\n",
        "      \"mappings\": {\n",
        "          \"properties\": {\n",
        "              \"text\": {\n",
        "                  \"type\": \"text\"\n",
        "              },\n",
        "              \"vector\": {\n",
        "                  \"type\": \"dense_vector\",\n",
        "                  \"dims\": 384\n",
        "              }\n",
        "          }\n",
        "      }\n",
        "  }\n",
        "  response = es.indices.create(index=index_name, body=index_config)\n",
        "except AuthorizationException:\n",
        "    print(wrap_text(\"> This Lab uses a read only connect to Elasticsearch ... skipping\"))\n",
        "\n",
        "\n",
        "\n",
        "try:\n",
        "  print(\"\\nStep 2: Installing the Elasticsearch Ingest Pipeline\")\n",
        "  pipeline_body = {\n",
        "    \"description\": \"Text embedding pipeline\",\n",
        "    \"processors\": [\n",
        "      {\n",
        "        \"inference\": {\n",
        "          \"model_id\": embedding_model,\n",
        "          \"target_field\": \"text_embedding\",\n",
        "          \"field_map\": {\n",
        "            \"text\": \"text_field\"\n",
        "          }\n",
        "        }\n",
        "      },\n",
        "      {\n",
        "        \"set\": {\n",
        "          \"field\": \"vector\",\n",
        "          \"copy_from\": \"text_embedding.predicted_value\"\n",
        "        }\n",
        "      },\n",
        "      {\n",
        "        \"remove\": {\n",
        "          \"field\": \"text_embedding\"\n",
        "        }\n",
        "      }\n",
        "    ],\n",
        "    \"on_failure\": [\n",
        "      {\n",
        "        \"set\": {\n",
        "          \"description\": \"Index document to 'failed-<index>'\",\n",
        "          \"field\": \"_index\",\n",
        "          \"value\": \"failed-{{{_index}}}\"\n",
        "        }\n",
        "      },\n",
        "      {\n",
        "        \"set\": {\n",
        "          \"description\": \"Set error message\",\n",
        "          \"field\": \"ingest.failure\",\n",
        "          \"value\": \"{{_ingest.on_failure_message}}\"\n",
        "        }\n",
        "      }\n",
        "    ]\n",
        "  }\n",
        "  response = es.ingest.put_pipeline(id=pipeline_id, body=pipeline_body)\n",
        "except AuthorizationException:\n",
        "  print(wrap_text(\"> This Lab uses a read only connect to Elasticsearch ... skipping\"))\n",
        "\n",
        "\n",
        "\n",
        "BATCH_SIZE = 10\n",
        "def batchify(docs, batch_size):\n",
        "    for i in range(0, len(docs), batch_size):\n",
        "        yield docs[i:i + batch_size]\n",
        "def bulkLoadIndex(index_name, json_docs, pipeline_id ):\n",
        "    batches = list(batchify(json_docs, BATCH_SIZE))\n",
        "\n",
        "    for batch in tqdm(batches, desc=f\"Batches of size {BATCH_SIZE}\"):\n",
        "        # Convert the JSON documents to the format required for bulk insertion\n",
        "        bulk_docs = [\n",
        "            {\n",
        "                \"_op_type\": \"index\",\n",
        "                \"_index\": index_name,\n",
        "                \"_source\": doc,\n",
        "            }\n",
        "            for doc in batch\n",
        "        ]\n",
        "\n",
        "        # Perform bulk insertion\n",
        "        success, errors =  helpers.bulk(\n",
        "              es,\n",
        "              bulk_docs,\n",
        "              pipeline=pipeline_id,\n",
        "              raise_on_error=False\n",
        "            )\n",
        "        if errors:\n",
        "            for error in errors:\n",
        "                print(error)\n",
        "\n",
        "\n",
        "## Split the text into chunks\n",
        "print(\"\\nStep 3: Splitting Spacecraft Text\")\n",
        "the_full_text = wikipedia_spacecraft[0][\"text\"]\n",
        "text_splitter = RecursiveCharacterTextSplitter(\n",
        "    chunk_size=1024,\n",
        "    chunk_overlap=50,\n",
        "    length_function=len\n",
        ")\n",
        "chunks = text_splitter.split_text(the_full_text)\n",
        "docs = [\n",
        "    {\n",
        "        \"text\": chunk,\n",
        "        \"chunk_number\": i,\n",
        "        \"title\": \"Spacecraft\"\n",
        "    }\n",
        "    for i, chunk in enumerate(chunks)\n",
        "]\n",
        "print(f\"> text split into {len(chunks)} chunks\")\n",
        "\n",
        "\n",
        "\n",
        "try:\n",
        "  print(\"\\nStep 4: Inserting chunks into Elasticsearch, created vectors inside ES\")\n",
        "  bulkLoadIndex(index_name, docs, pipeline_id )\n",
        "except AuthorizationException:\n",
        "  print(\"\\n\")\n",
        "  print(wrap_text(\"> This Lab uses a read only connect to Elasticsearch ... skipping\"))\n",
        "\n",
        "# chunks[0]\n",
        "# es_generated_vector = elasticsearch_rest_vectorize(chunks[0], es_model_id=embedding_model)\n",
        "# len(es_generated_vector)\n",
        "# print_and_plot_vector(es_generated_vector)"
      ]
    },
    {
      "cell_type": "markdown",
      "metadata": {
        "id": "WpN0ezl8Y7Yr"
      },
      "source": [
        "## Step 10: Vector searching for the best chunk\n",
        "\n"
      ]
    },
    {
      "cell_type": "code",
      "execution_count": null,
      "metadata": {
        "id": "jeeD-kVIIxeQ"
      },
      "outputs": [],
      "source": [
        "question = \"What three countries have flown manned spacecraft?\"\n",
        "\n",
        "search_query = {\n",
        "    \"size\": 1,\n",
        "    \"knn\": {\n",
        "        \"field\": \"vector\",\n",
        "        \"query_vector_builder\": {\n",
        "            \"text_embedding\": {\n",
        "                \"model_id\": embedding_model,\n",
        "                \"model_text\": question\n",
        "            }\n",
        "        },\n",
        "        \"k\": 1,\n",
        "        \"num_candidates\": 5\n",
        "    },\n",
        "    \"fields\": [\"text\", \"chunk_number\", \"title\"],\n",
        "    \"_source\": False\n",
        "}\n",
        "\n",
        "response = es.search(index=index_name, body=search_query)\n",
        "\n",
        "best_chunk = response['hits']['hits'][0]['fields']['text'][0]\n",
        "\n",
        "print(f\"Question: {question}\")\n",
        "print(f\"\\nBest Chunk: {wrap_text(best_chunk)}\")"
      ]
    },
    {
      "cell_type": "markdown",
      "metadata": {
        "id": "ap-8on2EhMEg"
      },
      "source": [
        "## Step 11: Retrieval Augmented Generation"
      ]
    },
    {
      "cell_type": "code",
      "execution_count": null,
      "metadata": {
        "id": "eNDiqdw7fTLH"
      },
      "outputs": [],
      "source": [
        "# Call the OpenAI ChatCompletion API\n",
        "def chatCompletion(messages, max_tokens=100):\n",
        "    client = OpenAI(api_key=openai.api_key, base_url=openai.api_base)\n",
        "    completion = client.chat.completions.create(\n",
        "        model=openai.default_model,\n",
        "        max_tokens=max_tokens,\n",
        "        messages=messages\n",
        "    )\n",
        "    return completion\n",
        "\n",
        "prompt=f\"\"\"\n",
        "Answer questions using the following context\n",
        "Context: {best_chunk}\n",
        "Question: {question}\n",
        "\"\"\"\n",
        "\n",
        "messages = [{\"role\": \"user\", \"content\": prompt}]\n",
        "\n",
        "completion = chatCompletion(messages)\n",
        "\n",
        "response_text = completion.choices[0].message.content\n",
        "\n",
        "\n",
        "print(f\"Question: {question}\")\n",
        "print(f\"\\nRAG answer: {wrap_text(response_text,70)}\")"
      ]
    },
    {
      "cell_type": "markdown",
      "metadata": {
        "id": "g9ZFTuL8iClE"
      },
      "source": [
        "# 🛑 Stop Here 🛑\n",
        "\n"
      ]
    },
    {
      "cell_type": "markdown",
      "metadata": {
        "id": "ClJCLZe8iNSR"
      },
      "source": [
        "# Lab 3 : Retrieval Augmented Generation\n"
      ]
    },
    {
      "cell_type": "markdown",
      "metadata": {
        "id": "IvZYvYkE62Df"
      },
      "source": [
        "## Step 1: Gathering Semantic documents from Elasticsearch</font>\n",
        "This first exercise will allow us to see an example of returing semantically matching documents from Elasticsearch.\n",
        "\n",
        "It is not too important to understand all the Elasticsearch DSL syntax at this stage.\n",
        "\n"
      ]
    },
    {
      "cell_type": "code",
      "execution_count": 5,
      "metadata": {
        "id": "l7lu2VBg6vMN"
      },
      "outputs": [],
      "source": [
        "import openai\n",
        "from elasticsearch import Elasticsearch\n",
        "import time\n",
        "import json\n",
        "import textwrap\n",
        "\n",
        "\n",
        "index = os.environ['ELASTIC_INDEX_DOCS_W']\n",
        "\n",
        "# Create Elasticsearch Connection\n",
        "es = Elasticsearch(\n",
        "            cloud_id=os.environ['ELASTIC_CLOUD_ID_W'],\n",
        "            api_key=(os.environ['ELASTIC_APIKEY_ID_W']),\n",
        "            request_timeout=30\n",
        "            )\n",
        "\n",
        "\n",
        "# Search Function\n",
        "def es_hybrid_search(question):\n",
        "    query = {\n",
        "      \"nested\": {\n",
        "        \"path\": \"passages\",\n",
        "        \"query\": {\n",
        "          \"bool\": {\n",
        "            \"must\": [\n",
        "              {\n",
        "                \"match\": {\n",
        "                  \"passages.text\": question\n",
        "                }\n",
        "              }\n",
        "            ]\n",
        "          }\n",
        "        }\n",
        "      }\n",
        "    }\n",
        "\n",
        "    knn = {\n",
        "      \"inner_hits\": {\n",
        "        \"_source\": False,\n",
        "        \"fields\": [\n",
        "          \"passages.text\"\n",
        "        ]\n",
        "      },\n",
        "      \"field\": \"passages.embeddings\",\n",
        "      \"k\": 5,\n",
        "      \"num_candidates\": 100,\n",
        "      \"query_vector_builder\": {\n",
        "        \"text_embedding\": {\n",
        "          \"model_id\": \"sentence-transformers__all-distilroberta-v1\",\n",
        "          \"model_text\": question\n",
        "        }\n",
        "      }\n",
        "    }\n",
        "\n",
        "    rank = {\n",
        "      \"rrf\": {}\n",
        "    }\n",
        "\n",
        "    fields = [\n",
        "      \"title\",\n",
        "      \"text\"\n",
        "    ]\n",
        "\n",
        "    size = 5\n",
        "\n",
        "    resp = es.search(index=index,\n",
        "                  #query=query,\n",
        "                  knn=knn,\n",
        "                  fields=fields,\n",
        "                  size=size,\n",
        "                  #rank=rank,\n",
        "                  source=False\n",
        "                  )\n",
        "\n",
        "    title_text = []\n",
        "    for doc in resp['hits']['hits']:\n",
        "      title_text.append( { 'title' : doc['fields']['title'][0],\n",
        "        'passage' : doc['inner_hits']['passages']['hits']['hits'][0]['fields']['passages'][0]['text'][0] }\n",
        "                         )\n",
        "\n",
        "    return title_text"
      ]
    },
    {
      "cell_type": "markdown",
      "metadata": {
        "id": "eKBumt6W68wE"
      },
      "source": [
        "#### Example Semantic Search With Elastic\n",
        "Querying semantic search using the [sentence-transformers/all-distilroberta-v1](https://huggingface.co/sentence-transformers/all-distilroberta-v1) model."
      ]
    },
    {
      "cell_type": "code",
      "execution_count": 6,
      "metadata": {
        "id": "h4hlknOP-Tba"
      },
      "outputs": [],
      "source": [
        "user_question = \"Who is Batman?\""
      ]
    },
    {
      "cell_type": "code",
      "execution_count": 7,
      "metadata": {
        "id": "qpHyxzev4WZm"
      },
      "outputs": [
        {
          "name": "stdout",
          "output_type": "stream",
          "text": [
            "Wikipedia titles returned:\n",
            "\n",
            "0 - David Cain (character)\n",
            "1 - Batman\n",
            "2 - Bruce Wayne (Dark Knight trilogy)\n",
            "3 - Batman Beyond\n",
            "4 - We Are Robin\n"
          ]
        }
      ],
      "source": [
        "es_augment_docs = es_hybrid_search(user_question)\n",
        "\n",
        "print('Wikipedia titles returned:\\n')\n",
        "for hit, wiki in enumerate(es_augment_docs):\n",
        "  print(f\"{hit} - {wiki['title'] }\" )"
      ]
    },
    {
      "cell_type": "markdown",
      "metadata": {
        "id": "dPVcfU_26rGI"
      },
      "source": [
        "## Step 2: Sending Elasticsearch docs with a prompt for a RAG response"
      ]
    },
    {
      "cell_type": "code",
      "execution_count": null,
      "metadata": {
        "id": "aWeL5ANw65ND"
      },
      "outputs": [],
      "source": [
        "import openai\n",
        "from openai import OpenAI\n",
        "import textwrap\n",
        "\n",
        "\n",
        "# Configure OpenAI client\n",
        "openai.api_key = os.environ['OPENAI_API_KEY']\n",
        "openai.api_base = os.environ['OPENAI_API_BASE']\n",
        "openai.default_model = os.environ['OPENAI_API_ENGINE']\n",
        "openai.verify_ssl_certs = False\n",
        "client = OpenAI(api_key=openai.api_key, base_url=openai.api_base)\n",
        "\n",
        "if os.environ['ELASTIC_PROXY'] != \"True\":\n",
        "    openai.api_type = os.environ['OPENAI_API_TYPE']\n",
        "    openai.api_version = os.environ['OPENAI_API_VERSION']\n",
        "\n",
        "\n",
        "# Text wrapper for colab readibility\n",
        "def wrap_text(text):\n",
        "    wrapped_text = textwrap.wrap(text, 70)\n",
        "    return '\\n'.join(wrapped_text)\n",
        "\n",
        "\n",
        "# Function to connect with LLM\n",
        "def chat_gpt(client, question, passages):\n",
        "\n",
        "    system_prompt=\"You are a helpful assistant who answers questions from provided Wikipedia articles.\"\n",
        "    user_prompt = f'''Answer the followng question: {question}\n",
        "                    using only the wikipedia `passages` provided.\n",
        "                    If the answer is not provided in the `passages` respond ONLY with:\n",
        "                    \"I am unable to answer the user's question from the provided passage\" and nothing else.\n",
        "\n",
        "                  passages: {passages}\n",
        "\n",
        "                  AI response:\n",
        "                  '''\n",
        "\n",
        "    # Prepare the messages for the ChatGPT API\n",
        "    messages = [{\"role\": \"system\", \"content\": system_prompt},\n",
        "                {\"role\": \"user\", \"content\": user_prompt}]\n",
        "\n",
        "    response = client.chat.completions.create(model=openai.default_model,\n",
        "                                              temperature=0.2,\n",
        "                                              messages=messages,\n",
        "                                              )\n",
        "    return response\n",
        "#    return response.choices[0].message.content"
      ]
    },
    {
      "cell_type": "markdown",
      "metadata": {
        "id": "pQ4ZijSv65tQ"
      },
      "source": [
        "#### Pass the full prompt and wiki passages to LLM"
      ]
    },
    {
      "cell_type": "code",
      "execution_count": null,
      "metadata": {
        "id": "MR-XrChD6-E0"
      },
      "outputs": [],
      "source": [
        "ai = chat_gpt(client, user_question, es_augment_docs)\n",
        "print(f\"User Question: \\n{user_question}\\n\")\n",
        "print(\"AI response:\")\n",
        "print(wrap_text(ai.choices[0].message.content))"
      ]
    },
    {
      "cell_type": "markdown",
      "metadata": {
        "id": "t7RmurdZNPg-"
      },
      "source": [
        "## Step 3: Full RAG Application with UI\n"
      ]
    },
    {
      "cell_type": "markdown",
      "metadata": {},
      "source": [
        "## Main Script\n",
        "We've placed the sample code in the streamlit folder of this repository\n",
        "\n",
        "Take a look at the code [streamlit/app.py](../streamlit/app.py)"
      ]
    },
    {
      "cell_type": "markdown",
      "metadata": {},
      "source": [
        "## Streamlit\n",
        "To start the Streamlit app you need to use the ```streamlit run``` command from the folder.  You can do this either from this notebook or the Visual Studio Code terminal provided in Github Codespaces"
      ]
    },
    {
      "cell_type": "code",
      "execution_count": null,
      "metadata": {
        "id": "cHIHFID3NBXa"
      },
      "outputs": [],
      "source": [
        "! cd ../streamlit; streamlit run app.py "
      ]
    }
  ],
  "metadata": {
    "colab": {
      "provenance": [],
      "toc_visible": true
    },
    "kernelspec": {
      "display_name": "Python 3",
      "name": "python3"
    },
    "language_info": {
      "codemirror_mode": {
        "name": "ipython",
        "version": 3
      },
      "file_extension": ".py",
      "mimetype": "text/x-python",
      "name": "python",
      "nbconvert_exporter": "python",
      "pygments_lexer": "ipython3",
      "version": "3.10.13"
    }
  },
  "nbformat": 4,
  "nbformat_minor": 0
}
